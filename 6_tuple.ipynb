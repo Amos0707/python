{
  "nbformat": 4,
  "nbformat_minor": 0,
  "metadata": {
    "colab": {
      "provenance": [],
      "authorship_tag": "ABX9TyPrkxj1CQhSpaMVy3y8O5CT",
      "include_colab_link": true
    },
    "kernelspec": {
      "name": "python3",
      "display_name": "Python 3"
    },
    "language_info": {
      "name": "python"
    }
  },
  "cells": [
    {
      "cell_type": "markdown",
      "metadata": {
        "id": "view-in-github",
        "colab_type": "text"
      },
      "source": [
        "<a href=\"https://colab.research.google.com/github/Amos0707/python/blob/main/6_tuple.ipynb\" target=\"_parent\"><img src=\"https://colab.research.google.com/assets/colab-badge.svg\" alt=\"Open In Colab\"/></a>"
      ]
    },
    {
      "cell_type": "code",
      "execution_count": null,
      "metadata": {
        "id": "N2NHe73LpQWz"
      },
      "outputs": [],
      "source": []
    },
    {
      "cell_type": "markdown",
      "source": [
        "**Tuples in Python:**\n",
        "\n",
        "- A tuple is a collection which is ordered and unchangeable.\n",
        "- Tuples are used to store multiple items in a single variable.\n",
        "- Tuples are similar to lists, but the difference is tples cannot be modified once created.\n",
        "- Tuple is one of 4 built-in data types in Python used to store collections of data, the other 3 are List, Set, and Dictionary, all with different qualities and usage.\n",
        "- Tuples are defined by parentheses( ) and the elements are seperated by __commas (,)___\n",
        "\n",
        "\n",
        "**Examples of Creating Tuple**:"
      ],
      "metadata": {
        "id": "hKh65-vWpUXo"
      }
    },
    {
      "cell_type": "code",
      "source": [
        "#Tuple with string data type as elements\n",
        "\n",
        "cars = ('Mercedes', 'BMW', 'Audi', 'Volvo')\n",
        "print(cars, type(cars))\n",
        "\n",
        "#Tuple with float data type as elements\n",
        "\n",
        "decimal = (1.1, 2.5, 3.8, 9.5)\n",
        "print(decimal, type(decimal))\n",
        "\n",
        "#Tuple with int data type as elements\n",
        "\n",
        "number = (1, 2, 3, 4)\n",
        "print(number, type(number))\n",
        "\n",
        "#Tuple with boolean data type\n",
        "\n",
        "bool = (5>2, 6<4, 9<=10)\n",
        "print(bool, type(bool))\n",
        "\n",
        "#Tuple with mixed data type as elements\n",
        "\n",
        "mixed_data = (1, 'Apple', 9.6, 1+8j, 5>2)\n",
        "print(mixed_data, type(mixed_data))\n",
        "\n",
        "#single element Tuple\n",
        "\n",
        "#for single element comma, has to be given after the element then the compiler will print output as <class 'tuple'>\n",
        "# or else the output will be based on the element data type\n",
        "#single element using boolean\n",
        "single_bool = (5>2,) # here comma has been given after element output is 'tuple'\n",
        "print(type(single_bool))\n",
        "single_bool1 = (5>2) # here comma has not been given after element output is 'bool'\n",
        "print(type(single_bool1))\n",
        "\n",
        "#single element using float\n",
        "single_float = (8.5,) # here comma has been given after element output is 'tuple'\n",
        "print(type(single_float))\n",
        "single_float1 = (8.5) # here comma has not been given after element output is 'float'\n",
        "print(type(single_float1))\n",
        "\n"
      ],
      "metadata": {
        "colab": {
          "base_uri": "https://localhost:8080/"
        },
        "id": "k4qh6zMCpzU4",
        "outputId": "0f559c9a-0c5e-4e02-cae0-b6bdc069aabd"
      },
      "execution_count": 1,
      "outputs": [
        {
          "output_type": "stream",
          "name": "stdout",
          "text": [
            "('Mercedes', 'BMW', 'Audi', 'Volvo') <class 'tuple'>\n",
            "(1.1, 2.5, 3.8, 9.5) <class 'tuple'>\n",
            "(1, 2, 3, 4) <class 'tuple'>\n",
            "(True, False, True) <class 'tuple'>\n",
            "(1, 'Apple', 9.6, (1+8j), True) <class 'tuple'>\n",
            "<class 'tuple'>\n",
            "<class 'bool'>\n",
            "<class 'tuple'>\n",
            "<class 'float'>\n"
          ]
        }
      ]
    },
    {
      "cell_type": "markdown",
      "source": [
        "**Accessing of Tuples**:\n",
        "\n",
        "- Tuples support indexing and slicing just like lists.\n",
        "\n",
        "- Indexing:\n",
        "\n",
        "- We can access individual elements of a tuple using indexing.\n",
        "For example, if we have a tuple tup with three elements, we can access the first element using tup[0], the second element using tup[1], and the third element using tup[2].\n",
        "\n",
        "- Slicing:\n",
        "\n",
        "\n",
        "- Slicing is the extraction of a part of a string, list, or tuple.\n",
        "- It enables users to access the specific range of elements by mentioning their indices."
      ],
      "metadata": {
        "id": "kqugiYrGq5nt"
      }
    },
    {
      "cell_type": "code",
      "source": [
        "#Accessing elements using index and slicing\n",
        "\n",
        "a = [1, 2, 3, 4, 5, 6, 7, 8, 9, 0]\n",
        "print(a)\n",
        "#example using index\n",
        "print(a[4])\n",
        "\n",
        "#example using slicing\n",
        "print(a[4:8])"
      ],
      "metadata": {
        "colab": {
          "base_uri": "https://localhost:8080/"
        },
        "id": "Wjo1JDQ3qzoS",
        "outputId": "4eab5369-3e89-4a32-82ad-fc9dd484b8df"
      },
      "execution_count": 2,
      "outputs": [
        {
          "output_type": "stream",
          "name": "stdout",
          "text": [
            "[1, 2, 3, 4, 5, 6, 7, 8, 9, 0]\n",
            "5\n",
            "[5, 6, 7, 8]\n"
          ]
        }
      ]
    },
    {
      "cell_type": "markdown",
      "source": [
        "Immutability:\n",
        "\n",
        "- Immutability in Python tuples means that once a tuple is created, its contents cannot be changed or add or removed.\n",
        "- This is a key difference between tuples and other Python data structures, such as lists and dictionaries, which are mutable and can be modified after creation.\n",
        "\n",
        "Examples:"
      ],
      "metadata": {
        "id": "50SFfgGErqbO"
      }
    },
    {
      "cell_type": "code",
      "source": [
        "#using string\n",
        "fruits = ('apple', 'mango', 'kiwi', 'pears')\n",
        "fruits[2] = 'orange'\n",
        "print(fruits)"
      ],
      "metadata": {
        "colab": {
          "base_uri": "https://localhost:8080/",
          "height": 193
        },
        "id": "E8YK-xuQriq8",
        "outputId": "f8db9e26-2bf9-46c4-b1a6-7f42ee0bc609"
      },
      "execution_count": 3,
      "outputs": [
        {
          "output_type": "error",
          "ename": "TypeError",
          "evalue": "'tuple' object does not support item assignment",
          "traceback": [
            "\u001b[0;31m---------------------------------------------------------------------------\u001b[0m",
            "\u001b[0;31mTypeError\u001b[0m                                 Traceback (most recent call last)",
            "\u001b[0;32m<ipython-input-3-8749e9ce45f9>\u001b[0m in \u001b[0;36m<cell line: 3>\u001b[0;34m()\u001b[0m\n\u001b[1;32m      1\u001b[0m \u001b[0;31m#using string\u001b[0m\u001b[0;34m\u001b[0m\u001b[0;34m\u001b[0m\u001b[0m\n\u001b[1;32m      2\u001b[0m \u001b[0mfruits\u001b[0m \u001b[0;34m=\u001b[0m \u001b[0;34m(\u001b[0m\u001b[0;34m'apple'\u001b[0m\u001b[0;34m,\u001b[0m \u001b[0;34m'mango'\u001b[0m\u001b[0;34m,\u001b[0m \u001b[0;34m'kiwi'\u001b[0m\u001b[0;34m,\u001b[0m \u001b[0;34m'pears'\u001b[0m\u001b[0;34m)\u001b[0m\u001b[0;34m\u001b[0m\u001b[0;34m\u001b[0m\u001b[0m\n\u001b[0;32m----> 3\u001b[0;31m \u001b[0mfruits\u001b[0m\u001b[0;34m[\u001b[0m\u001b[0;36m2\u001b[0m\u001b[0;34m]\u001b[0m \u001b[0;34m=\u001b[0m \u001b[0;34m'orange'\u001b[0m\u001b[0;34m\u001b[0m\u001b[0;34m\u001b[0m\u001b[0m\n\u001b[0m\u001b[1;32m      4\u001b[0m \u001b[0mprint\u001b[0m\u001b[0;34m(\u001b[0m\u001b[0mfruits\u001b[0m\u001b[0;34m)\u001b[0m\u001b[0;34m\u001b[0m\u001b[0;34m\u001b[0m\u001b[0m\n",
            "\u001b[0;31mTypeError\u001b[0m: 'tuple' object does not support item assignment"
          ]
        }
      ]
    },
    {
      "cell_type": "code",
      "source": [
        "#using int\n",
        "numbers = (1, 2, 3, 4)\n",
        "numbers[2] = 5\n",
        "print(numbers)"
      ],
      "metadata": {
        "colab": {
          "base_uri": "https://localhost:8080/",
          "height": 193
        },
        "id": "jF_dNMZ0rzEV",
        "outputId": "598090cd-ac71-4460-91cb-107b9f7fac40"
      },
      "execution_count": 4,
      "outputs": [
        {
          "output_type": "error",
          "ename": "TypeError",
          "evalue": "'tuple' object does not support item assignment",
          "traceback": [
            "\u001b[0;31m---------------------------------------------------------------------------\u001b[0m",
            "\u001b[0;31mTypeError\u001b[0m                                 Traceback (most recent call last)",
            "\u001b[0;32m<ipython-input-4-7ae927d18199>\u001b[0m in \u001b[0;36m<cell line: 3>\u001b[0;34m()\u001b[0m\n\u001b[1;32m      1\u001b[0m \u001b[0;31m#using int\u001b[0m\u001b[0;34m\u001b[0m\u001b[0;34m\u001b[0m\u001b[0m\n\u001b[1;32m      2\u001b[0m \u001b[0mnumbers\u001b[0m \u001b[0;34m=\u001b[0m \u001b[0;34m(\u001b[0m\u001b[0;36m1\u001b[0m\u001b[0;34m,\u001b[0m \u001b[0;36m2\u001b[0m\u001b[0;34m,\u001b[0m \u001b[0;36m3\u001b[0m\u001b[0;34m,\u001b[0m \u001b[0;36m4\u001b[0m\u001b[0;34m)\u001b[0m\u001b[0;34m\u001b[0m\u001b[0;34m\u001b[0m\u001b[0m\n\u001b[0;32m----> 3\u001b[0;31m \u001b[0mnumbers\u001b[0m\u001b[0;34m[\u001b[0m\u001b[0;36m2\u001b[0m\u001b[0;34m]\u001b[0m \u001b[0;34m=\u001b[0m \u001b[0;36m5\u001b[0m\u001b[0;34m\u001b[0m\u001b[0;34m\u001b[0m\u001b[0m\n\u001b[0m\u001b[1;32m      4\u001b[0m \u001b[0mprint\u001b[0m\u001b[0;34m(\u001b[0m\u001b[0mnumbers\u001b[0m\u001b[0;34m)\u001b[0m\u001b[0;34m\u001b[0m\u001b[0;34m\u001b[0m\u001b[0m\n",
            "\u001b[0;31mTypeError\u001b[0m: 'tuple' object does not support item assignment"
          ]
        }
      ]
    },
    {
      "cell_type": "markdown",
      "source": [
        "Tuple Operations:\n",
        "\n",
        "1. Concatenation:\n",
        "\n",
        "- Combining two tuples.\n",
        "- It is defined by plus +.\n",
        "\n",
        "Example:"
      ],
      "metadata": {
        "id": "jm5lqY_Or4GR"
      }
    },
    {
      "cell_type": "code",
      "source": [
        "num = (1, 4, 3)\n",
        "words = ('One', 'Four', 'Three')\n",
        "num_words = num + words\n",
        "print(num_words)"
      ],
      "metadata": {
        "colab": {
          "base_uri": "https://localhost:8080/"
        },
        "id": "o8zTSz22r2Gh",
        "outputId": "8151ae74-3724-4635-ff5d-bcf79aff0306"
      },
      "execution_count": 5,
      "outputs": [
        {
          "output_type": "stream",
          "name": "stdout",
          "text": [
            "(1, 4, 3, 'One', 'Four', 'Three')\n"
          ]
        }
      ]
    },
    {
      "cell_type": "markdown",
      "source": [
        "\n",
        "2. Repetition:\n",
        "\n",
        "\n",
        "- The repetition duplicates a tuple and links all of them together.\n",
        "\n",
        "- The * symbol is commonly used to indicate multiplication, however, it becomes the repetition operator when the operand on the left side of the * is a tuple.\n",
        "\n",
        "- Example:\n",
        "\n"
      ],
      "metadata": {
        "id": "nmTL4GwUsHRr"
      }
    },
    {
      "cell_type": "code",
      "source": [
        "a = (5, 6, 9, 2)\n",
        "rpt_a = a * 5\n",
        "print(rpt_a)"
      ],
      "metadata": {
        "colab": {
          "base_uri": "https://localhost:8080/"
        },
        "id": "ca5LHStjsGeW",
        "outputId": "46bedfca-0fe2-4cb5-f2f1-194c51a11131"
      },
      "execution_count": 6,
      "outputs": [
        {
          "output_type": "stream",
          "name": "stdout",
          "text": [
            "(5, 6, 9, 2, 5, 6, 9, 2, 5, 6, 9, 2, 5, 6, 9, 2, 5, 6, 9, 2)\n"
          ]
        }
      ]
    },
    {
      "cell_type": "markdown",
      "source": [
        "**Tuple Methods**:\n",
        "\n",
        "- Tuple has limited methods compared to lists due to their immutability.\n",
        "\n",
        "1. count()\n",
        "\n",
        "- Returns the number of occurance of a specified value.\n"
      ],
      "metadata": {
        "id": "8wxEbPIQsgsG"
      }
    },
    {
      "cell_type": "code",
      "source": [
        "num = (1, 5, 2, 3, 4, 8, 9, 5, 4, 1, 2, 5, 6, 2, 4, 5, 8, 7, 6)\n",
        "num_count = num.count(5)\n",
        "print(num_count)\n",
        "\n",
        "cars = ('Audi', 'BMW', 'Audi', 'Benz', 'Volvo', 'audi')\n",
        "cars_count = cars.count('Audi')\n",
        "print(cars_count)"
      ],
      "metadata": {
        "colab": {
          "base_uri": "https://localhost:8080/"
        },
        "id": "D_Ee6lJPssXh",
        "outputId": "7abdf7a2-76c3-4125-a6d8-f9e53bc29be2"
      },
      "execution_count": 7,
      "outputs": [
        {
          "output_type": "stream",
          "name": "stdout",
          "text": [
            "4\n",
            "2\n"
          ]
        }
      ]
    },
    {
      "cell_type": "markdown",
      "source": [
        "2. index()\n",
        "\n",
        "Returns the index for first occurence of specified element or value.\n"
      ],
      "metadata": {
        "id": "gxBwBCxis0rc"
      }
    },
    {
      "cell_type": "code",
      "source": [
        "num = (1, 5, 2, 3, 8, 4, 9, 5, 4, 1, 2, 5, 6, 2, 4, 5, 8, 7, 6)\n",
        "num_index = num.index(4)\n",
        "print(num_index)\n",
        "\n",
        "cars = ('Audi', 'BMW', 'Audi', 'Benz', 'Volvo', 'audi')\n",
        "cars_index = cars.index('Audi')\n",
        "print(cars_index)"
      ],
      "metadata": {
        "colab": {
          "base_uri": "https://localhost:8080/"
        },
        "id": "qLsbTjyTs-GC",
        "outputId": "9e5dd0c6-d331-4684-d4e0-9f6e616c3af5"
      },
      "execution_count": 8,
      "outputs": [
        {
          "output_type": "stream",
          "name": "stdout",
          "text": [
            "5\n",
            "0\n"
          ]
        }
      ]
    },
    {
      "cell_type": "code",
      "source": [],
      "metadata": {
        "id": "dRS_sQWktAjn"
      },
      "execution_count": null,
      "outputs": []
    }
  ]
}