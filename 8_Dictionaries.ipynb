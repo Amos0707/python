{
  "nbformat": 4,
  "nbformat_minor": 0,
  "metadata": {
    "colab": {
      "provenance": [],
      "authorship_tag": "ABX9TyO0tVrQqcCFOsUCXa5bzHY8",
      "include_colab_link": true
    },
    "kernelspec": {
      "name": "python3",
      "display_name": "Python 3"
    },
    "language_info": {
      "name": "python"
    }
  },
  "cells": [
    {
      "cell_type": "markdown",
      "metadata": {
        "id": "view-in-github",
        "colab_type": "text"
      },
      "source": [
        "<a href=\"https://colab.research.google.com/github/Amos0707/python/blob/main/8_Dictionaries.ipynb\" target=\"_parent\"><img src=\"https://colab.research.google.com/assets/colab-badge.svg\" alt=\"Open In Colab\"/></a>"
      ]
    },
    {
      "cell_type": "markdown",
      "source": [
        "Dictionaries in Python:\n",
        "\n",
        "-\n",
        "- Dictionaries are mutable data structures that allow you to store key-value pairs.\n",
        "\n",
        "- Dictionary can be created using curly braces'{}'.\n",
        "\n",
        "- Once you have created a dictionary, you can add, remove, or update elements.\n",
        "\n",
        "- Dictionaries are also known as associative arrays or hash maps in other programming languages.\n",
        "\n",
        "- Each key-value are seperated by colon (:) and each pair is known as item and each item is seperated by comma (,).\n",
        "\n",
        "- Creating Dictionaries:"
      ],
      "metadata": {
        "id": "ogQSAe_kCUSA"
      }
    },
    {
      "cell_type": "code",
      "source": [
        "#Empty dictionary\n",
        "empty_dict = {}\n",
        "\n",
        "#Dictionary with key-value pairs\n",
        "EMP = {\"emp_name\":\"David\", \"emp_id\":1001, \"emp_number\":9876543210, \"emp_role\":\"Software Developer\"}\n",
        "print(EMP)"
      ],
      "metadata": {
        "colab": {
          "base_uri": "https://localhost:8080/"
        },
        "id": "672-VzTaCw1c",
        "outputId": "2469c1d9-aad7-489b-e614-0ae2e3e6ff13"
      },
      "execution_count": 1,
      "outputs": [
        {
          "output_type": "stream",
          "name": "stdout",
          "text": [
            "{'emp_name': 'David', 'emp_id': 1001, 'emp_number': 9876543210, 'emp_role': 'Software Developer'}\n"
          ]
        }
      ]
    },
    {
      "cell_type": "code",
      "source": [
        "#Dictionaries with mixed-datatypes\n",
        "mixed_dictEMP = {\"emp_name\":\"Dave\", \"emp_age\":35, \"emp_height\":5.8, \"emp_certs\":[\"Core Java\", \"Python\", \"AWS\", \"Azure\"]}\n",
        "print(mixed_dictEMP)"
      ],
      "metadata": {
        "colab": {
          "base_uri": "https://localhost:8080/"
        },
        "id": "2OF-LIkEC3zp",
        "outputId": "21abac08-680c-4119-f7fd-ea17de8753b4"
      },
      "execution_count": 2,
      "outputs": [
        {
          "output_type": "stream",
          "name": "stdout",
          "text": [
            "{'emp_name': 'Dave', 'emp_age': 35, 'emp_height': 5.8, 'emp_certs': ['Core Java', 'Python', 'AWS', 'Azure']}\n"
          ]
        }
      ]
    },
    {
      "cell_type": "markdown",
      "source": [
        "**Accessing Values**:\n",
        "\n",
        "- In dictionaries values are accessed using \"keys\".\n"
      ],
      "metadata": {
        "id": "QytHvUtdDNB_"
      }
    },
    {
      "cell_type": "code",
      "source": [
        "#Dictionary with key-value pairs\n",
        "EMP = {\"emp_name\":\"jai\", \"emp_id\":1001, \"emp_number\":9876543210, \"emp_role\":\"Software Developer\"}\n",
        "print(EMP)"
      ],
      "metadata": {
        "colab": {
          "base_uri": "https://localhost:8080/"
        },
        "id": "PVn81AxuC7IS",
        "outputId": "df21c557-cb5c-4838-e01b-24a665e31769"
      },
      "execution_count": 3,
      "outputs": [
        {
          "output_type": "stream",
          "name": "stdout",
          "text": [
            "{'emp_name': 'jai', 'emp_id': 1001, 'emp_number': 9876543210, 'emp_role': 'Software Developer'}\n"
          ]
        }
      ]
    },
    {
      "cell_type": "code",
      "source": [
        "#Dictionaries with mixed-datatypes\n",
        "mixed_dictEMP = {\"emp_name\":\"jai\", \"emp_age\":35, \"emp_height\":5.8, \"emp_certs\":[\"Core Java\", \"Python\", \"AWS\", \"Azure\"]}\n",
        "print(mixed_dictEMP)\n"
      ],
      "metadata": {
        "colab": {
          "base_uri": "https://localhost:8080/"
        },
        "id": "9RveIdO5Dyj-",
        "outputId": "25a86bac-5bba-444e-dc12-d325977d78ce"
      },
      "execution_count": 5,
      "outputs": [
        {
          "output_type": "stream",
          "name": "stdout",
          "text": [
            "{'emp_name': 'jai', 'emp_age': 35, 'emp_height': 5.8, 'emp_certs': ['Core Java', 'Python', 'AWS', 'Azure']}\n"
          ]
        }
      ]
    },
    {
      "cell_type": "code",
      "source": [
        "#Accessing Values or Elements\n",
        "print(EMP[\"emp_name\"])\n",
        "print(mixed_dictEMP[\"emp_certs\"])"
      ],
      "metadata": {
        "colab": {
          "base_uri": "https://localhost:8080/"
        },
        "id": "McysbPAXD1e6",
        "outputId": "5edfac07-d085-47fb-9b62-c12ccddc07d0"
      },
      "execution_count": 6,
      "outputs": [
        {
          "output_type": "stream",
          "name": "stdout",
          "text": [
            "jai\n",
            "['Core Java', 'Python', 'AWS', 'Azure']\n"
          ]
        }
      ]
    },
    {
      "cell_type": "markdown",
      "source": [
        "**Modifying and Adding New key-value or entries**:"
      ],
      "metadata": {
        "id": "IQgwuP4NECBZ"
      }
    },
    {
      "cell_type": "code",
      "source": [
        "#Dictionary with key-value pairs\n",
        "EMP = {\"emp_name\":\"jai\", \"emp_id\":1001, \"emp_number\":9876543210, \"emp_role\":\"Software Developer\"}\n",
        "print(EMP)"
      ],
      "metadata": {
        "colab": {
          "base_uri": "https://localhost:8080/"
        },
        "id": "yGozS6U2D7tv",
        "outputId": "af59129d-4bd2-4159-9cab-2f7598bc83a6"
      },
      "execution_count": 8,
      "outputs": [
        {
          "output_type": "stream",
          "name": "stdout",
          "text": [
            "{'emp_name': 'jai', 'emp_id': 1001, 'emp_number': 9876543210, 'emp_role': 'Software Developer'}\n"
          ]
        }
      ]
    },
    {
      "cell_type": "code",
      "source": [
        "#Modifying values in dictionary\n",
        "EMP[\"emp_id\"] = 1234\n",
        "print(EMP)"
      ],
      "metadata": {
        "colab": {
          "base_uri": "https://localhost:8080/"
        },
        "id": "OoeBoeCdEMXo",
        "outputId": "d7369c1b-e785-4083-e3c4-75ff00088cc3"
      },
      "execution_count": 9,
      "outputs": [
        {
          "output_type": "stream",
          "name": "stdout",
          "text": [
            "{'emp_name': 'jai', 'emp_id': 1234, 'emp_number': 9876543210, 'emp_role': 'Software Developer'}\n"
          ]
        }
      ]
    },
    {
      "cell_type": "code",
      "source": [
        "#Adding new key-value\n",
        "EMP[\"emp_email\"] = \"xyz123@gmail.com\"\n",
        "EMP[\"emp_age\"] = 30\n",
        "print(EMP)"
      ],
      "metadata": {
        "colab": {
          "base_uri": "https://localhost:8080/"
        },
        "id": "75E2dIEhEg3p",
        "outputId": "083584db-85bd-4878-ab10-c4af02cb437e"
      },
      "execution_count": 10,
      "outputs": [
        {
          "output_type": "stream",
          "name": "stdout",
          "text": [
            "{'emp_name': 'jai', 'emp_id': 1234, 'emp_number': 9876543210, 'emp_role': 'Software Developer', 'emp_email': 'xyz123@gmail.com', 'emp_age': 30}\n"
          ]
        }
      ]
    },
    {
      "cell_type": "markdown",
      "source": [
        "Dictionary Methods:\n",
        "1. get()\n",
        "\n",
        "With this method we can access value of specified key in dictionary."
      ],
      "metadata": {
        "id": "Y_cyLbtRE2Ga"
      }
    },
    {
      "cell_type": "code",
      "source": [
        "id = EMP.get(\"emp_id\", \"No Id Given\")\n",
        "number = EMP.get(\"emp_number\", \"No number found\")\n",
        "gender = EMP.get(\"emp_gender\", \"Gender details not found\")\n",
        "location = EMP.get(\"emp_location\") #as any comment is not given about the key, compiler prints None if the key is not in dictionary\n",
        "print(id)\n",
        "print(number)\n",
        "print(gender)\n",
        "print(location)"
      ],
      "metadata": {
        "colab": {
          "base_uri": "https://localhost:8080/"
        },
        "id": "ZnWkZX40Eld5",
        "outputId": "cd0f1bf0-63d3-4057-e4e0-b3a1ff105275"
      },
      "execution_count": 11,
      "outputs": [
        {
          "output_type": "stream",
          "name": "stdout",
          "text": [
            "1234\n",
            "9876543210\n",
            "Gender details not found\n",
            "None\n"
          ]
        }
      ]
    },
    {
      "cell_type": "markdown",
      "source": [
        "2. keys()\n",
        "\n",
        "- Returns a view of all the keys in dictionary"
      ],
      "metadata": {
        "id": "ldfcoARkFKnN"
      }
    },
    {
      "cell_type": "code",
      "source": [
        "keys = EMP.keys()\n",
        "print(keys)"
      ],
      "metadata": {
        "colab": {
          "base_uri": "https://localhost:8080/"
        },
        "id": "qbFns9eWFVgP",
        "outputId": "359e9f8c-bbb2-4903-ba42-bc36193d494e"
      },
      "execution_count": 12,
      "outputs": [
        {
          "output_type": "stream",
          "name": "stdout",
          "text": [
            "dict_keys(['emp_name', 'emp_id', 'emp_number', 'emp_role', 'emp_email', 'emp_age'])\n"
          ]
        }
      ]
    },
    {
      "cell_type": "markdown",
      "source": [
        "3. values()\n",
        "\n",
        "- Returs a view of all the values in dictionary."
      ],
      "metadata": {
        "id": "dOMivolnFbpA"
      }
    },
    {
      "cell_type": "code",
      "source": [
        "values = EMP.values()\n",
        "print(values)"
      ],
      "metadata": {
        "colab": {
          "base_uri": "https://localhost:8080/"
        },
        "id": "oUsBhYNAFaF5",
        "outputId": "96b3e891-7268-44bb-8183-7d72c9819a74"
      },
      "execution_count": 13,
      "outputs": [
        {
          "output_type": "stream",
          "name": "stdout",
          "text": [
            "dict_values(['jai', 1234, 9876543210, 'Software Developer', 'xyz123@gmail.com', 30])\n"
          ]
        }
      ]
    },
    {
      "cell_type": "markdown",
      "source": [
        "4. items()\n",
        "\n",
        "- Returns a view of all key-value in a pairs of tuples"
      ],
      "metadata": {
        "id": "MwAiS5q0F4gE"
      }
    },
    {
      "cell_type": "code",
      "source": [
        "items = EMP.items()\n",
        "print(items)"
      ],
      "metadata": {
        "colab": {
          "base_uri": "https://localhost:8080/"
        },
        "id": "Oa-OKSYIGOlE",
        "outputId": "f03b6a80-63eb-4951-83b0-79c5629c31d7"
      },
      "execution_count": 14,
      "outputs": [
        {
          "output_type": "stream",
          "name": "stdout",
          "text": [
            "dict_items([('emp_name', 'jai'), ('emp_id', 1234), ('emp_number', 9876543210), ('emp_role', 'Software Developer'), ('emp_email', 'xyz123@gmail.com'), ('emp_age', 30)])\n"
          ]
        }
      ]
    },
    {
      "cell_type": "markdown",
      "source": [
        "5. pop()\n",
        "\n",
        "\n",
        "- Removes and returns the value of specified key.\n",
        "\n",
        "- If any key is not specified in pop() method the compiler throws an error.\n",
        "\n",
        "- In pop() methond atleast 1 arguement need to be passed."
      ],
      "metadata": {
        "id": "xvm6fMAQGak_"
      }
    },
    {
      "cell_type": "code",
      "source": [
        "empdetails = {\"emp_name\":\"Dave\", \"emp_age\":35, \"emp_height\":5.8, \"emp_certs\":[\"Core Java\", \"Python\", \"AWS\", \"Azure\"]}\n",
        "print(empdetails)"
      ],
      "metadata": {
        "colab": {
          "base_uri": "https://localhost:8080/"
        },
        "id": "08ucdcg3GPyb",
        "outputId": "903efb6e-d8e8-4476-ce6b-7d2339a4623c"
      },
      "execution_count": 15,
      "outputs": [
        {
          "output_type": "stream",
          "name": "stdout",
          "text": [
            "{'emp_name': 'Dave', 'emp_age': 35, 'emp_height': 5.8, 'emp_certs': ['Core Java', 'Python', 'AWS', 'Azure']}\n"
          ]
        }
      ]
    },
    {
      "cell_type": "code",
      "source": [
        "#Using pop() method specifying a key\n",
        "emp_certs_pop = empdetails.pop(\"emp_certs\")\n",
        "print(emp_certs_pop)"
      ],
      "metadata": {
        "colab": {
          "base_uri": "https://localhost:8080/"
        },
        "id": "AxR-r3GmGvMO",
        "outputId": "faa894ef-97bf-4cc5-cb72-6fb4117f026e"
      },
      "execution_count": 16,
      "outputs": [
        {
          "output_type": "stream",
          "name": "stdout",
          "text": [
            "['Core Java', 'Python', 'AWS', 'Azure']\n"
          ]
        }
      ]
    },
    {
      "cell_type": "code",
      "source": [
        "print(empdetails)"
      ],
      "metadata": {
        "colab": {
          "base_uri": "https://localhost:8080/"
        },
        "id": "ILqxJni9GyD7",
        "outputId": "974addd2-1f1e-46b4-db04-7f3c7ea108e8"
      },
      "execution_count": 17,
      "outputs": [
        {
          "output_type": "stream",
          "name": "stdout",
          "text": [
            "{'emp_name': 'Dave', 'emp_age': 35, 'emp_height': 5.8}\n"
          ]
        }
      ]
    },
    {
      "cell_type": "code",
      "source": [
        "# Using pop() method without specifying a key\n",
        "age = empdetails.pop()\n",
        "print(age)"
      ],
      "metadata": {
        "colab": {
          "base_uri": "https://localhost:8080/",
          "height": 176
        },
        "id": "frq8tRSjG0U0",
        "outputId": "6ed48ef1-231e-4abe-9100-77abd08a4276"
      },
      "execution_count": 18,
      "outputs": [
        {
          "output_type": "error",
          "ename": "TypeError",
          "evalue": "pop expected at least 1 argument, got 0",
          "traceback": [
            "\u001b[0;31m---------------------------------------------------------------------------\u001b[0m",
            "\u001b[0;31mTypeError\u001b[0m                                 Traceback (most recent call last)",
            "\u001b[0;32m<ipython-input-18-2248a8af6dfa>\u001b[0m in \u001b[0;36m<cell line: 2>\u001b[0;34m()\u001b[0m\n\u001b[1;32m      1\u001b[0m \u001b[0;31m# Using pop() method without specifying a key\u001b[0m\u001b[0;34m\u001b[0m\u001b[0;34m\u001b[0m\u001b[0m\n\u001b[0;32m----> 2\u001b[0;31m \u001b[0mage\u001b[0m \u001b[0;34m=\u001b[0m \u001b[0mempdetails\u001b[0m\u001b[0;34m.\u001b[0m\u001b[0mpop\u001b[0m\u001b[0;34m(\u001b[0m\u001b[0;34m)\u001b[0m\u001b[0;34m\u001b[0m\u001b[0;34m\u001b[0m\u001b[0m\n\u001b[0m\u001b[1;32m      3\u001b[0m \u001b[0mprint\u001b[0m\u001b[0;34m(\u001b[0m\u001b[0mage\u001b[0m\u001b[0;34m)\u001b[0m\u001b[0;34m\u001b[0m\u001b[0;34m\u001b[0m\u001b[0m\n",
            "\u001b[0;31mTypeError\u001b[0m: pop expected at least 1 argument, got 0"
          ]
        }
      ]
    },
    {
      "cell_type": "markdown",
      "source": [
        "6. popitem()\n",
        "\n",
        "Removes and returns the last inserted key-value pair in form of tuple.\n",
        "If any arguement is passed the compiler throws an error.\n"
      ],
      "metadata": {
        "id": "gCpjrYZMHB4A"
      }
    },
    {
      "cell_type": "code",
      "source": [
        "empdetails1 = {\"emp_name\":\"Dave\", \"emp_age\":35, \"emp_height\":5.8, \"emp_certs\":[\"Core Java\", \"Python\", \"AWS\", \"Azure\"]}\n",
        "print(empdetails1)"
      ],
      "metadata": {
        "colab": {
          "base_uri": "https://localhost:8080/"
        },
        "id": "wfhwdwXuG6TN",
        "outputId": "685966a6-7b91-43a2-c1b9-9e843acaa0eb"
      },
      "execution_count": 19,
      "outputs": [
        {
          "output_type": "stream",
          "name": "stdout",
          "text": [
            "{'emp_name': 'Dave', 'emp_age': 35, 'emp_height': 5.8, 'emp_certs': ['Core Java', 'Python', 'AWS', 'Azure']}\n"
          ]
        }
      ]
    },
    {
      "cell_type": "code",
      "source": [
        "#popitem() without any key passed\n",
        "emp1_popitem = empdetails1.popitem()\n",
        "print(emp1_popitem)\n",
        "print(empdetails1)"
      ],
      "metadata": {
        "colab": {
          "base_uri": "https://localhost:8080/"
        },
        "id": "rc2STkWqHH_1",
        "outputId": "f34cbe9c-8f00-4cf4-dfb7-c84b71a59220"
      },
      "execution_count": 20,
      "outputs": [
        {
          "output_type": "stream",
          "name": "stdout",
          "text": [
            "('emp_certs', ['Core Java', 'Python', 'AWS', 'Azure'])\n",
            "{'emp_name': 'Dave', 'emp_age': 35, 'emp_height': 5.8}\n"
          ]
        }
      ]
    },
    {
      "cell_type": "code",
      "source": [
        "#popitem() with specified key\n",
        "empdetails1 = {\"emp_name\":\"Dave\", \"emp_age\":35, \"emp_height\":5.8, \"emp_certs\":[\"Core Java\", \"Python\", \"AWS\", \"Azure\"]}\n",
        "emp_age_popitem = empdetails1.popitem(\"emp_age\")\n",
        "print(emp_age_popitem)\n",
        "print(empdetails1)"
      ],
      "metadata": {
        "colab": {
          "base_uri": "https://localhost:8080/",
          "height": 228
        },
        "id": "MqBdZMsBHKqW",
        "outputId": "6606cb69-34be-4179-fd64-7654e199ce3c"
      },
      "execution_count": 21,
      "outputs": [
        {
          "output_type": "error",
          "ename": "TypeError",
          "evalue": "dict.popitem() takes no arguments (1 given)",
          "traceback": [
            "\u001b[0;31m---------------------------------------------------------------------------\u001b[0m",
            "\u001b[0;31mTypeError\u001b[0m                                 Traceback (most recent call last)",
            "\u001b[0;32m<ipython-input-21-458b9a27ee5e>\u001b[0m in \u001b[0;36m<cell line: 3>\u001b[0;34m()\u001b[0m\n\u001b[1;32m      1\u001b[0m \u001b[0;31m#popitem() with specified key\u001b[0m\u001b[0;34m\u001b[0m\u001b[0;34m\u001b[0m\u001b[0m\n\u001b[1;32m      2\u001b[0m \u001b[0mempdetails1\u001b[0m \u001b[0;34m=\u001b[0m \u001b[0;34m{\u001b[0m\u001b[0;34m\"emp_name\"\u001b[0m\u001b[0;34m:\u001b[0m\u001b[0;34m\"Dave\"\u001b[0m\u001b[0;34m,\u001b[0m \u001b[0;34m\"emp_age\"\u001b[0m\u001b[0;34m:\u001b[0m\u001b[0;36m35\u001b[0m\u001b[0;34m,\u001b[0m \u001b[0;34m\"emp_height\"\u001b[0m\u001b[0;34m:\u001b[0m\u001b[0;36m5.8\u001b[0m\u001b[0;34m,\u001b[0m \u001b[0;34m\"emp_certs\"\u001b[0m\u001b[0;34m:\u001b[0m\u001b[0;34m[\u001b[0m\u001b[0;34m\"Core Java\"\u001b[0m\u001b[0;34m,\u001b[0m \u001b[0;34m\"Python\"\u001b[0m\u001b[0;34m,\u001b[0m \u001b[0;34m\"AWS\"\u001b[0m\u001b[0;34m,\u001b[0m \u001b[0;34m\"Azure\"\u001b[0m\u001b[0;34m]\u001b[0m\u001b[0;34m}\u001b[0m\u001b[0;34m\u001b[0m\u001b[0;34m\u001b[0m\u001b[0m\n\u001b[0;32m----> 3\u001b[0;31m \u001b[0memp_age_popitem\u001b[0m \u001b[0;34m=\u001b[0m \u001b[0mempdetails1\u001b[0m\u001b[0;34m.\u001b[0m\u001b[0mpopitem\u001b[0m\u001b[0;34m(\u001b[0m\u001b[0;34m\"emp_age\"\u001b[0m\u001b[0;34m)\u001b[0m\u001b[0;34m\u001b[0m\u001b[0;34m\u001b[0m\u001b[0m\n\u001b[0m\u001b[1;32m      4\u001b[0m \u001b[0mprint\u001b[0m\u001b[0;34m(\u001b[0m\u001b[0memp_age_popitem\u001b[0m\u001b[0;34m)\u001b[0m\u001b[0;34m\u001b[0m\u001b[0;34m\u001b[0m\u001b[0m\n\u001b[1;32m      5\u001b[0m \u001b[0mprint\u001b[0m\u001b[0;34m(\u001b[0m\u001b[0mempdetails1\u001b[0m\u001b[0;34m)\u001b[0m\u001b[0;34m\u001b[0m\u001b[0;34m\u001b[0m\u001b[0m\n",
            "\u001b[0;31mTypeError\u001b[0m: dict.popitem() takes no arguments (1 given)"
          ]
        }
      ]
    },
    {
      "cell_type": "markdown",
      "source": [
        "7. update()\n",
        "\n",
        "- Updates the dictionary with elements from another dictionary."
      ],
      "metadata": {
        "id": "XwQ6-QkGHPir"
      }
    },
    {
      "cell_type": "code",
      "source": [
        "EMP = {\"emp_name\":\"David\",\n",
        "       \"emp_id\":1001,\n",
        "       \"emp_number\":9876543210,\n",
        "       \"emp_role\":\"Software Developer\"}\n",
        "print(EMP)"
      ],
      "metadata": {
        "colab": {
          "base_uri": "https://localhost:8080/"
        },
        "id": "R-H6NBxwHN3Q",
        "outputId": "41474b1e-d1dc-4911-8b79-0c689e3c2121"
      },
      "execution_count": 22,
      "outputs": [
        {
          "output_type": "stream",
          "name": "stdout",
          "text": [
            "{'emp_name': 'David', 'emp_id': 1001, 'emp_number': 9876543210, 'emp_role': 'Software Developer'}\n"
          ]
        }
      ]
    },
    {
      "cell_type": "code",
      "source": [
        "new_emp = {\"emp_id\":1234, \"emp_age\":36, \"emp_email\":\"abc123@gmail.com\"}\n",
        "EMP.update(new_emp)\n",
        "print(EMP)"
      ],
      "metadata": {
        "colab": {
          "base_uri": "https://localhost:8080/"
        },
        "id": "JnRbpK-UHZE2",
        "outputId": "ca426789-e896-4832-c9c0-ceda6d29bcd9"
      },
      "execution_count": 23,
      "outputs": [
        {
          "output_type": "stream",
          "name": "stdout",
          "text": [
            "{'emp_name': 'David', 'emp_id': 1234, 'emp_number': 9876543210, 'emp_role': 'Software Developer', 'emp_age': 36, 'emp_email': 'abc123@gmail.com'}\n"
          ]
        }
      ]
    },
    {
      "cell_type": "code",
      "source": [],
      "metadata": {
        "id": "8RUVCbhFHcDe"
      },
      "execution_count": null,
      "outputs": []
    }
  ]
}