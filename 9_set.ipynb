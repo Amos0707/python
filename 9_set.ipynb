{
  "nbformat": 4,
  "nbformat_minor": 0,
  "metadata": {
    "colab": {
      "provenance": [],
      "authorship_tag": "ABX9TyOFupHxRXEb95yI9M8x0oFz",
      "include_colab_link": true
    },
    "kernelspec": {
      "name": "python3",
      "display_name": "Python 3"
    },
    "language_info": {
      "name": "python"
    }
  },
  "cells": [
    {
      "cell_type": "markdown",
      "metadata": {
        "id": "view-in-github",
        "colab_type": "text"
      },
      "source": [
        "<a href=\"https://colab.research.google.com/github/Amos0707/python/blob/main/9_set.ipynb\" target=\"_parent\"><img src=\"https://colab.research.google.com/assets/colab-badge.svg\" alt=\"Open In Colab\"/></a>"
      ]
    },
    {
      "cell_type": "markdown",
      "source": [
        "**Sets in Python**:\n",
        "\n",
        "- A Set in Python programming is an unordered collection data type that is iterable and has no duplicate elements.\n",
        "\n",
        "- Set is defined using curly braces {} or the set() function.\n",
        "\n",
        "- The major advantage of using a set, as opposed to a list, is that it has a highly optimized method for checking whether a specific element is contained in the set.\n",
        "\n",
        "- Sets are used to store multiple elements in a single variable.\n",
        "\n",
        "- Sets provide a variety of methods for performing common set operations like UNION, INTERSECTION, DIFFERENCE and SYMMETRIC DIFFERENCE.\n",
        "\n",
        "**Creating Sets**:\n"
      ],
      "metadata": {
        "id": "qHx9CPz4Kxwv"
      }
    },
    {
      "cell_type": "code",
      "source": [
        "#Creating an empty set\n",
        "#empty_set = set()\n",
        "\n",
        "#Creating a Set of elements\n",
        "cars = {\"BMW\", \"Audi\", \"Mercedes\"}\n",
        "print(cars)\n",
        "print(type(cars))"
      ],
      "metadata": {
        "colab": {
          "base_uri": "https://localhost:8080/"
        },
        "id": "zcciivEgMRH8",
        "outputId": "525f4e2c-bb88-45c4-edc9-a07919efcdfb"
      },
      "execution_count": 1,
      "outputs": [
        {
          "output_type": "stream",
          "name": "stdout",
          "text": [
            "{'BMW', 'Audi', 'Mercedes'}\n",
            "<class 'set'>\n"
          ]
        }
      ]
    },
    {
      "cell_type": "code",
      "source": [
        "#Converting list to a set\n",
        "a = [1, 2, 3, 4, 5, 6]\n",
        "print(set(a))"
      ],
      "metadata": {
        "colab": {
          "base_uri": "https://localhost:8080/"
        },
        "id": "2baypujEMUIC",
        "outputId": "27b51ef7-9437-4cad-c2db-8e654518429a"
      },
      "execution_count": 2,
      "outputs": [
        {
          "output_type": "stream",
          "name": "stdout",
          "text": [
            "{1, 2, 3, 4, 5, 6}\n"
          ]
        }
      ]
    },
    {
      "cell_type": "code",
      "source": [
        "#Set is a collection of unique elements it removes duplicates and it is unordered\n",
        "num = {9,61,5,45,8,6,2,1,2,3,35,4,8,7,6,48,7,5,4,2,3,6,5,9,8,5,4,72,5,2,5,6,8,9,5,3,2}\n",
        "print(num)"
      ],
      "metadata": {
        "colab": {
          "base_uri": "https://localhost:8080/"
        },
        "id": "_loBcRAQMhlA",
        "outputId": "804095f6-4b1e-4135-de9b-81d0fe9a9c4b"
      },
      "execution_count": 3,
      "outputs": [
        {
          "output_type": "stream",
          "name": "stdout",
          "text": [
            "{1, 2, 3, 35, 5, 6, 4, 8, 9, 7, 72, 45, 48, 61}\n"
          ]
        }
      ]
    },
    {
      "cell_type": "markdown",
      "source": [
        "**Add or Update Set Items in Python**\n",
        "\n",
        "- Sets are mutable, you can add or remove elements after their creation.\n",
        "\n",
        "- We cannot assign or change value once the set is created.\n",
        "\n",
        "- The individual elements within the set must be immutable and cannot be changed directly.\n",
        "\n",
        "- We cannot access or change elements in set using indexing or slicing.\n",
        "\n",
        "- Set data type does not support it.\n",
        "\n",
        "**1. Add item to a set**:\n",
        "\n",
        "- In python we use add() method.\n",
        "\n",
        "- Only one argument should be given to add a new element or item"
      ],
      "metadata": {
        "id": "EP9tWrqZNJmQ"
      }
    },
    {
      "cell_type": "code",
      "source": [
        "cars = {\"BMW\", \"Audi\", \"Mercedes\"}\n",
        "print(\"Initial Set:\", cars)\n",
        "newitem = cars.add(\"Porsche\")\n",
        "print(\"New Set:\", cars)"
      ],
      "metadata": {
        "colab": {
          "base_uri": "https://localhost:8080/"
        },
        "id": "70e7Y25fMk5R",
        "outputId": "36df1c05-4c5c-4f01-ae68-07c59e4a13b0"
      },
      "execution_count": 4,
      "outputs": [
        {
          "output_type": "stream",
          "name": "stdout",
          "text": [
            "Initial Set: {'BMW', 'Audi', 'Mercedes'}\n",
            "New Set: {'BMW', 'Porsche', 'Audi', 'Mercedes'}\n"
          ]
        }
      ]
    },
    {
      "cell_type": "code",
      "source": [
        "num = {9,61,5,45,8,6,2,1,2,3,35,4,8,7,6,48,7,5,4,2,3,6,5,9,8,5,4,72,5,2,5,6,8,9,5,3,2}\n",
        "print(\"Initial Num:\", num)\n",
        "newnum = num.add(100)\n",
        "print(\"New Num:\", num)"
      ],
      "metadata": {
        "colab": {
          "base_uri": "https://localhost:8080/"
        },
        "id": "cuL1E0OBNzMa",
        "outputId": "8c533d7e-b58d-41ae-86c4-792e4c48503e"
      },
      "execution_count": 5,
      "outputs": [
        {
          "output_type": "stream",
          "name": "stdout",
          "text": [
            "Initial Num: {1, 2, 3, 35, 5, 6, 4, 8, 9, 7, 72, 45, 48, 61}\n",
            "New Num: {1, 2, 3, 35, 5, 6, 4, 8, 9, 7, 72, 100, 45, 48, 61}\n"
          ]
        }
      ]
    },
    {
      "cell_type": "markdown",
      "source": [
        "2. Update Set:\n",
        "\n",
        "- Update() method takes any number of argument.\n",
        "\n",
        "- The arguments can be a set, list, tuples or a dictionary.\n",
        "\n",
        "- It automatically converts into a set and adds to the set"
      ],
      "metadata": {
        "id": "7FAuMTYsN3m4"
      }
    },
    {
      "cell_type": "code",
      "source": [
        "empdetails = {\"Dave\", \"Male\"}\n",
        "newdetails = {\"Age: 35\", \"Ph.no: 9876543210\", \"abc123@gmail.com\", \"Developer\"}\n",
        "update_details = empdetails.update(newdetails)\n",
        "print(empdetails)\n"
      ],
      "metadata": {
        "colab": {
          "base_uri": "https://localhost:8080/"
        },
        "id": "roQUMginOOB-",
        "outputId": "41790dde-f1a6-4f31-eca5-f5baa8b32f98"
      },
      "execution_count": 6,
      "outputs": [
        {
          "output_type": "stream",
          "name": "stdout",
          "text": [
            "{'Male', 'Developer', 'Ph.no: 9876543210', 'abc123@gmail.com', 'Age: 35', 'Dave'}\n"
          ]
        }
      ]
    },
    {
      "cell_type": "markdown",
      "source": [
        "Remove an element from a Set:\n",
        "\n",
        "- We use discard() or remove() method to remove specified element from a set."
      ],
      "metadata": {
        "id": "oHgfqb0NOSmG"
      }
    },
    {
      "cell_type": "code",
      "source": [
        "#here we use remove() method\n",
        "jobroles = {\"Data Scientist\", \"Analyst\", \"Engineer\"}\n",
        "print(jobroles)\n",
        "rmvrole = jobroles.remove(\"Engineer\")\n",
        "print(jobroles)"
      ],
      "metadata": {
        "colab": {
          "base_uri": "https://localhost:8080/"
        },
        "id": "bQZSObqZOPB0",
        "outputId": "108de2c1-5e44-4b64-f4e0-8a8a5ab20329"
      },
      "execution_count": 7,
      "outputs": [
        {
          "output_type": "stream",
          "name": "stdout",
          "text": [
            "{'Engineer', 'Data Scientist', 'Analyst'}\n",
            "{'Data Scientist', 'Analyst'}\n"
          ]
        }
      ]
    },
    {
      "cell_type": "code",
      "source": [
        "#here we use discard() method\n",
        "jobroles = {\"Data Scientist\", \"Analyst\", \"Engineer\"}\n",
        "print(jobroles)\n",
        "rmvrole = jobroles.discard(\"Data Scientist\")\n",
        "print(jobroles)"
      ],
      "metadata": {
        "colab": {
          "base_uri": "https://localhost:8080/"
        },
        "id": "NKAfvCBhOtqP",
        "outputId": "c844ec85-7f11-447d-d074-1ee54f960d07"
      },
      "execution_count": 8,
      "outputs": [
        {
          "output_type": "stream",
          "name": "stdout",
          "text": [
            "{'Engineer', 'Data Scientist', 'Analyst'}\n",
            "{'Engineer', 'Analyst'}\n"
          ]
        }
      ]
    },
    {
      "cell_type": "markdown",
      "source": [
        "Python Set Operations:\n",
        "\n",
        "- Python sets provides different built-in methods to perform mathematical operations like union, intersection, subtraction, and symmetric difference.\n",
        "\n",
        "1. Union of two sets\n",
        "\n",
        "- The union of two sets A and B include all the elements of Set A and Set B.\n",
        "Combines elements of two sets removing duplicates.\n",
        "\n",
        "- It is defined using | operator or union()."
      ],
      "metadata": {
        "id": "i3N4xRFyOy72"
      }
    },
    {
      "cell_type": "code",
      "source": [
        "#using | operator\n",
        "SetA = {1,2,3,4,5}\n",
        "SetB = {3,4,5,6,7,8,9}\n",
        "print(\"SetA:\", SetA)\n",
        "print(\"SetB:\", SetB)\n",
        "SetC = SetA | SetB\n",
        "print(\"SetA | SetB:\",SetC)"
      ],
      "metadata": {
        "colab": {
          "base_uri": "https://localhost:8080/"
        },
        "id": "_iy8GESROxHf",
        "outputId": "84e19a33-4feb-480e-d5ec-7c03e312ebf3"
      },
      "execution_count": 9,
      "outputs": [
        {
          "output_type": "stream",
          "name": "stdout",
          "text": [
            "SetA: {1, 2, 3, 4, 5}\n",
            "SetB: {3, 4, 5, 6, 7, 8, 9}\n",
            "SetA | SetB: {1, 2, 3, 4, 5, 6, 7, 8, 9}\n"
          ]
        }
      ]
    },
    {
      "cell_type": "code",
      "source": [
        "#Using union()\n",
        "SetA = {1,2,3,4,5}\n",
        "SetB = {3,4,5,6,7,8,9}\n",
        "print(\"SetA:\", SetA)\n",
        "print(\"SetB:\", SetB)\n",
        "SetC = SetA.union(SetB)\n",
        "print(\"SetA.union(SetB):\",SetC)"
      ],
      "metadata": {
        "colab": {
          "base_uri": "https://localhost:8080/"
        },
        "id": "HB6zQ106PTvc",
        "outputId": "d7878e0f-cba9-42c8-bfd4-27bc5092f8c4"
      },
      "execution_count": 10,
      "outputs": [
        {
          "output_type": "stream",
          "name": "stdout",
          "text": [
            "SetA: {1, 2, 3, 4, 5}\n",
            "SetB: {3, 4, 5, 6, 7, 8, 9}\n",
            "SetA.union(SetB): {1, 2, 3, 4, 5, 6, 7, 8, 9}\n"
          ]
        }
      ]
    },
    {
      "cell_type": "markdown",
      "source": [
        "2. Intersection of two Sets:\n",
        "\n",
        "-\n",
        "- It is defined using intersection() or & operator.\n",
        "\n",
        "- Common elements between two sets A and B\n",
        ".\n",
        "- Return the common elements between two sets."
      ],
      "metadata": {
        "id": "evEgxE8SPhO-"
      }
    },
    {
      "cell_type": "code",
      "source": [
        "#using & operator\n",
        "SetA = {1,2,3,4,5}\n",
        "SetB = {3,4,5,6,7,8,9}\n",
        "print(\"SetA:\", SetA)\n",
        "print(\"SetB:\", SetB)\n",
        "SetC = SetA & SetB\n",
        "print(\"SetA & SetB:\",SetC)"
      ],
      "metadata": {
        "colab": {
          "base_uri": "https://localhost:8080/"
        },
        "id": "XNBtRLMfPYCE",
        "outputId": "5dcae2b5-095b-4021-a239-b165fa3a1d90"
      },
      "execution_count": 11,
      "outputs": [
        {
          "output_type": "stream",
          "name": "stdout",
          "text": [
            "SetA: {1, 2, 3, 4, 5}\n",
            "SetB: {3, 4, 5, 6, 7, 8, 9}\n",
            "SetA & SetB: {3, 4, 5}\n"
          ]
        }
      ]
    },
    {
      "cell_type": "code",
      "source": [
        "#using intersection\n",
        "SetA = {1,2,3,4,5}\n",
        "SetB = {3,4,5,6,7,8,9}\n",
        "print(\"SetA:\", SetA)\n",
        "print(\"SetB:\", SetB)\n",
        "SetC = SetA.intersection(SetB)\n",
        "print(\"SetA.intersectionSetB:\",SetC)"
      ],
      "metadata": {
        "colab": {
          "base_uri": "https://localhost:8080/"
        },
        "id": "_fKrv3kUQXuj",
        "outputId": "4ba9a46c-5f0d-4c8c-9d54-3489696ad5c5"
      },
      "execution_count": 12,
      "outputs": [
        {
          "output_type": "stream",
          "name": "stdout",
          "text": [
            "SetA: {1, 2, 3, 4, 5}\n",
            "SetB: {3, 4, 5, 6, 7, 8, 9}\n",
            "SetA.intersectionSetB: {3, 4, 5}\n"
          ]
        }
      ]
    },
    {
      "cell_type": "markdown",
      "source": [
        "3. Difference between two sets:\n",
        "\n",
        "- It is defined using A − B or difference() operator.\n",
        "\n",
        "- Contains those elements of SetA that are NOT in SetB.\n",
        "Returns the elements of SetA but not SetB.\n"
      ],
      "metadata": {
        "id": "8BBQA5b9Q9Z3"
      }
    },
    {
      "cell_type": "code",
      "source": [
        "#using - operator\n",
        "SetA = {1,2,3,4,5}\n",
        "SetB = {3,4,5,6,7,8,9}\n",
        "print(\"SetA:\", SetA)\n",
        "print(\"SetB:\", SetB)\n",
        "SetC = SetA - SetB\n",
        "print(\"SetA - SetB:\",SetC)\n",
        "print(\"\\n\")\n",
        "#similarly goes with SetB - SetA\n",
        "SetA = {1,2,3,4,5}\n",
        "SetB = {3,4,5,6,7,8,9}\n",
        "print(\"SetB:\", SetB)\n",
        "print(\"SetA:\", SetA)\n",
        "SetC = SetB - SetA\n",
        "print(\"SetB - SetA:\",SetC)"
      ],
      "metadata": {
        "colab": {
          "base_uri": "https://localhost:8080/"
        },
        "id": "QI3-hCCTQ50q",
        "outputId": "330e3fa1-15c7-4f1a-abc5-dd6bcef609ac"
      },
      "execution_count": 13,
      "outputs": [
        {
          "output_type": "stream",
          "name": "stdout",
          "text": [
            "SetA: {1, 2, 3, 4, 5}\n",
            "SetB: {3, 4, 5, 6, 7, 8, 9}\n",
            "SetA - SetB: {1, 2}\n",
            "\n",
            "\n",
            "SetB: {3, 4, 5, 6, 7, 8, 9}\n",
            "SetA: {1, 2, 3, 4, 5}\n",
            "SetB - SetA: {8, 9, 6, 7}\n"
          ]
        }
      ]
    },
    {
      "cell_type": "code",
      "source": [],
      "metadata": {
        "id": "ezM5yBD0RadP"
      },
      "execution_count": null,
      "outputs": []
    }
  ]
}