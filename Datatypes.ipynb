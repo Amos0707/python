{
  "nbformat": 4,
  "nbformat_minor": 0,
  "metadata": {
    "colab": {
      "provenance": [],
      "authorship_tag": "ABX9TyMzvV2ucQ2VMSBGKr/VNkkl",
      "include_colab_link": true
    },
    "kernelspec": {
      "name": "python3",
      "display_name": "Python 3"
    },
    "language_info": {
      "name": "python"
    }
  },
  "cells": [
    {
      "cell_type": "markdown",
      "metadata": {
        "id": "view-in-github",
        "colab_type": "text"
      },
      "source": [
        "<a href=\"https://colab.research.google.com/github/Amos0707/python/blob/main/Datatypes.ipynb\" target=\"_parent\"><img src=\"https://colab.research.google.com/assets/colab-badge.svg\" alt=\"Open In Colab\"/></a>"
      ]
    },
    {
      "cell_type": "markdown",
      "source": [
        "*What are variables?*\n",
        "* Variables are containers for storing data values.\n"
      ],
      "metadata": {
        "id": "uMkgEWW5Oh1S"
      }
    },
    {
      "cell_type": "markdown",
      "source": [
        "**Creating a variables**?\n",
        "\n",
        " * Python has no command for declaring a variable.\n",
        "\n",
        " * A variable is created the moment you first assign a value to it.\n",
        "\n",
        "\n",
        "Example:\n",
        "\n",
        ">>> spam = 40\n",
        "\n",
        ">>> spam\n",
        "\n",
        ">>> 40\n",
        "\n",
        "\n",
        "\n",
        "\n",
        "# spam is  a variablel name & spam is container for storing a datavalue like 40.\n"
      ],
      "metadata": {
        "id": "3BfSpygeO2-c"
      }
    },
    {
      "cell_type": "markdown",
      "source": [
        "**Rules for creating variables name.**\n",
        "\n",
        "* Use letters, digits, and underscores (_), but don’t start with a digit (e.g., my_var1 is valid, but 1st_var is not).\n",
        "\n",
        "* Variable names are case-sensitive (myVar and myvar are different).\n",
        "\n",
        "* Avoid using reserved keywords like if, else, for, etc.\n",
        "  \n",
        "* Use descriptive names for clarity (e.g., total_amount instead of ta).\n",
        "\n",
        "* Prefer lowercase with underscores for multi-word names (e.g., first_name).\n",
        "\n",
        "* Avoid using single-character names except for simple loop counters (i, j).\n",
        "\n",
        "* Avoid naming variables after built-in functions (e.g., list, str)."
      ],
      "metadata": {
        "id": "oOF9lEjFQ33b"
      }
    },
    {
      "cell_type": "code",
      "source": [
        "a = 56\n",
        "b = 45.90\n",
        "print(a)\n",
        "print(b)"
      ],
      "metadata": {
        "colab": {
          "base_uri": "https://localhost:8080/"
        },
        "id": "lofLDG54SUPt",
        "outputId": "a7637767-6cfb-4147-c20d-ebf58e4b796c"
      },
      "execution_count": null,
      "outputs": [
        {
          "output_type": "stream",
          "name": "stdout",
          "text": [
            "56\n",
            "45.9\n"
          ]
        }
      ]
    },
    {
      "cell_type": "code",
      "source": [
        "# case-sensitive\n",
        "my_var =10    # Decalre the lower case with under score.\n",
        "MY_VAR =\"HI\"    # Decalre the upper case with under score.\n",
        "print(my_var)\n",
        "print(MY_VAR)"
      ],
      "metadata": {
        "colab": {
          "base_uri": "https://localhost:8080/"
        },
        "id": "pPFBaiWfSkv8",
        "outputId": "12f7105d-9d14-40d0-e59b-23dcbef760ef"
      },
      "execution_count": null,
      "outputs": [
        {
          "output_type": "stream",
          "name": "stdout",
          "text": [
            "10\n",
            "HI\n"
          ]
        }
      ]
    },
    {
      "cell_type": "code",
      "source": [
        "# You can get the data type of a variable with the type() function.\n",
        "print(type(my_var))\n",
        "print(type(MY_VAR))\n",
        "print(type(b))"
      ],
      "metadata": {
        "colab": {
          "base_uri": "https://localhost:8080/"
        },
        "id": "sdKQDyCHTJ2J",
        "outputId": "b3caa147-df74-4838-ea73-7db7e9fc6068"
      },
      "execution_count": null,
      "outputs": [
        {
          "output_type": "stream",
          "name": "stdout",
          "text": [
            "<class 'int'>\n",
            "<class 'str'>\n",
            "<class 'float'>\n"
          ]
        }
      ]
    },
    {
      "cell_type": "code",
      "source": [
        "# Illegal variable names.\n",
        "2myvar = \"John\"\n",
        "my-var = \"John\"\n",
        "my var = \"John\""
      ],
      "metadata": {
        "colab": {
          "base_uri": "https://localhost:8080/",
          "height": 106
        },
        "id": "U98YLcEDUDr3",
        "outputId": "74fe3b60-1993-43a4-f65a-68b3b3d33659"
      },
      "execution_count": null,
      "outputs": [
        {
          "output_type": "error",
          "ename": "SyntaxError",
          "evalue": "invalid decimal literal (<ipython-input-9-e56264917c4c>, line 2)",
          "traceback": [
            "\u001b[0;36m  File \u001b[0;32m\"<ipython-input-9-e56264917c4c>\"\u001b[0;36m, line \u001b[0;32m2\u001b[0m\n\u001b[0;31m    2myvar = \"John\"\u001b[0m\n\u001b[0m    ^\u001b[0m\n\u001b[0;31mSyntaxError\u001b[0m\u001b[0;31m:\u001b[0m invalid decimal literal\n"
          ]
        }
      ]
    },
    {
      "cell_type": "code",
      "source": [
        "# many values to multiple values.\n",
        "#Python allows you to assign values to multiple variables in one line:\n",
        "x, y, z = \"Orange\", \"Banana\", \"Cherry\"\n",
        "print(x)\n",
        "print(y)\n",
        "print(z)"
      ],
      "metadata": {
        "colab": {
          "base_uri": "https://localhost:8080/"
        },
        "id": "FyvvH6CiUjlJ",
        "outputId": "e6a87e99-2864-4260-ebd4-a2c1b894b6a1"
      },
      "execution_count": null,
      "outputs": [
        {
          "output_type": "stream",
          "name": "stdout",
          "text": [
            "Orange\n",
            "Banana\n",
            "Cherry\n"
          ]
        }
      ]
    },
    {
      "cell_type": "code",
      "source": [
        "#one value to multiple value Assign.\n",
        "x = y = z = \"Orange\"\n",
        "print(x)\n",
        "print(y)\n",
        "print(z)"
      ],
      "metadata": {
        "colab": {
          "base_uri": "https://localhost:8080/"
        },
        "id": "ny-NEEk7VMZt",
        "outputId": "793b14a7-e35b-4a55-e584-cdf06c40515e"
      },
      "execution_count": null,
      "outputs": [
        {
          "output_type": "stream",
          "name": "stdout",
          "text": [
            "Orange\n",
            "Orange\n",
            "Orange\n"
          ]
        }
      ]
    },
    {
      "cell_type": "markdown",
      "source": [
        "**Built-in Data Types**\n",
        "\n",
        "* In programming, data type is an important concept.\n",
        "\n",
        "* Variables can store data of different types, and different types can do different things.\n",
        "\n",
        "* Python has the following data types built-in by default, in these categories:\n",
        "\n",
        "\n",
        "Text Type:\tstr\n",
        "\n",
        "Numeric Types:\tint, float, complex\n",
        "\n",
        "Sequence Types:\tlist, tuple, range\n",
        "\n",
        "Mapping Type:\tdict\n",
        "\n",
        "Set Types:\tset, frozenset\n",
        "\n",
        "\n",
        "Boolean Type:\tbool\n",
        "\n",
        "Binary Types:\tbytes, bytearray, memoryview\n",
        "\n",
        "None Type:\tNoneType"
      ],
      "metadata": {
        "id": "ougP9pQ7oI3W"
      }
    },
    {
      "cell_type": "code",
      "source": [
        "# Data Types:\n",
        " #In python we have a Data types. They Are Int, Float , Strting, Boolean.\n",
        " #Int datatype mean it have number /intergers(1,2,3,---------------------------0-1,-2,-3)\n",
        "c= 12\n",
        "print(type(c))\n",
        "x = \"Hello World\"\t#str\n",
        "x = 20\t#int\n",
        "x = 20.5\t#float\n",
        "x = 1j\t#complex\n",
        "x = [\"apple\", \"banana\", \"cherry\"]\t#list\n",
        "x = (\"apple\", \"banana\", \"cherry\")\t#tuple\n",
        "x = range(6)\t#range\n",
        "x = {\"name\" : \"John\", \"age\" : 36}\t#dict\n",
        "x = {\"apple\", \"banana\", \"cherry\"}\t#set\n",
        "x = frozenset({\"apple\", \"banana\", \"cherry\"})\t#frozenset\n",
        "x = True\t#bool\n",
        "x = b\"Hello\"\t#bytes\n",
        "x = bytearray(5)\t#bytearray\n",
        "x = memoryview(bytes(5))\t#memoryview\n",
        "x = None    #nonetype\n"
      ],
      "metadata": {
        "id": "XWY4roqdVQ0_",
        "colab": {
          "base_uri": "https://localhost:8080/"
        },
        "outputId": "78d06bfb-ae6f-46b2-e5ae-6bd4a7ac9c6f"
      },
      "execution_count": 5,
      "outputs": [
        {
          "output_type": "stream",
          "name": "stdout",
          "text": [
            "<class 'int'>\n"
          ]
        }
      ]
    },
    {
      "cell_type": "markdown",
      "source": [
        "Float Datatype"
      ],
      "metadata": {
        "id": "3j0iS8WfntTX"
      }
    }
  ]
}