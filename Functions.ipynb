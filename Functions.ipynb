{
  "nbformat": 4,
  "nbformat_minor": 0,
  "metadata": {
    "colab": {
      "provenance": [],
      "authorship_tag": "ABX9TyMAvFci96o/BuuhLeWNh2WB",
      "include_colab_link": true
    },
    "kernelspec": {
      "name": "python3",
      "display_name": "Python 3"
    },
    "language_info": {
      "name": "python"
    }
  },
  "cells": [
    {
      "cell_type": "markdown",
      "metadata": {
        "id": "view-in-github",
        "colab_type": "text"
      },
      "source": [
        "<a href=\"https://colab.research.google.com/github/Amos0707/python/blob/main/Functions.ipynb\" target=\"_parent\"><img src=\"https://colab.research.google.com/assets/colab-badge.svg\" alt=\"Open In Colab\"/></a>"
      ]
    },
    {
      "cell_type": "code",
      "execution_count": null,
      "metadata": {
        "colab": {
          "base_uri": "https://localhost:8080/"
        },
        "id": "BR6TAdS5o9CK",
        "outputId": "3092eb6e-475a-47cb-fb65-898c8e0068e0"
      },
      "outputs": [
        {
          "output_type": "stream",
          "name": "stdout",
          "text": [
            "a\n"
          ]
        }
      ],
      "source": [
        "u = [\"a\",\"b\",\"d\",\"e\",\"f\"]\n",
        "for i in u:\n",
        "  if i == \"b\":\n",
        "    break\n",
        "\n",
        "\n",
        "  else:\n",
        "    print(i)\n"
      ]
    },
    {
      "cell_type": "code",
      "source": [
        "u = [\"a\",\"b\",\"d\",\"e\",\"f\"]\n",
        "for i in u:\n",
        "  if i ==\"d\":\n",
        "    continue\n",
        "  else:\n",
        "    print(i)\n"
      ],
      "metadata": {
        "colab": {
          "base_uri": "https://localhost:8080/"
        },
        "id": "lGSY6j6cphub",
        "outputId": "bcecd503-d348-470e-db38-afdbfc8e7c6c"
      },
      "execution_count": null,
      "outputs": [
        {
          "output_type": "stream",
          "name": "stdout",
          "text": [
            "a\n",
            "b\n",
            "e\n",
            "f\n"
          ]
        }
      ]
    },
    {
      "cell_type": "code",
      "source": [
        "u = [\"a\",\"b\",\"d\",\"e\",\"f\"]\n",
        "for i in u:\n",
        "  if i ==\"d\":\n",
        "    pass\n",
        "  else:\n",
        "    print(i)\n"
      ],
      "metadata": {
        "colab": {
          "base_uri": "https://localhost:8080/"
        },
        "id": "TgnDPfz-DmcV",
        "outputId": "5573fba2-b4ce-4ea2-d7d2-2ea6727852df"
      },
      "execution_count": null,
      "outputs": [
        {
          "output_type": "stream",
          "name": "stdout",
          "text": [
            "a\n",
            "b\n",
            "e\n",
            "f\n"
          ]
        }
      ]
    },
    {
      "cell_type": "markdown",
      "source": [
        "Function"
      ],
      "metadata": {
        "id": "vDKv218mD0JV"
      }
    },
    {
      "cell_type": "code",
      "source": [
        "def my_function(name):\n",
        "  print(\"hi\",name)\n",
        "my_function(\"amos\")"
      ],
      "metadata": {
        "colab": {
          "base_uri": "https://localhost:8080/"
        },
        "id": "CzrHWWpFD8or",
        "outputId": "5763fd0b-c8c7-4110-d358-09b5a55a3f10"
      },
      "execution_count": null,
      "outputs": [
        {
          "output_type": "stream",
          "name": "stdout",
          "text": [
            "hi amos\n"
          ]
        }
      ]
    },
    {
      "cell_type": "code",
      "source": [
        "\n",
        "def n_fun(name,age):\n",
        "  print(name,age)\n",
        "  return name,age\n",
        "\n",
        "n_fun(\"amos\",23)"
      ],
      "metadata": {
        "colab": {
          "base_uri": "https://localhost:8080/"
        },
        "id": "UuGIqWOSE7mm",
        "outputId": "2614b2b5-48c9-4935-b46a-3acebed61806"
      },
      "execution_count": null,
      "outputs": [
        {
          "output_type": "stream",
          "name": "stdout",
          "text": [
            "amos 23\n"
          ]
        },
        {
          "output_type": "execute_result",
          "data": {
            "text/plain": [
              "('amos', 23)"
            ]
          },
          "metadata": {},
          "execution_count": 17
        }
      ]
    },
    {
      "cell_type": "code",
      "source": [
        "def evenodd(a):\n",
        "  if a%2==0:\n",
        "    print(\"even\")\n",
        "  else:\n",
        "    print(\"odd\")\n",
        "    return a\n",
        "evenodd(4)\n",
        "evenodd(5)"
      ],
      "metadata": {
        "id": "pCSPZrDAHA2G",
        "colab": {
          "base_uri": "https://localhost:8080/"
        },
        "outputId": "dc31859a-909d-4af1-9b1f-08ee55fa7ea5"
      },
      "execution_count": 4,
      "outputs": [
        {
          "output_type": "stream",
          "name": "stdout",
          "text": [
            "even\n",
            "odd\n"
          ]
        },
        {
          "output_type": "execute_result",
          "data": {
            "text/plain": [
              "5"
            ]
          },
          "metadata": {},
          "execution_count": 4
        }
      ]
    },
    {
      "cell_type": "code",
      "source": [
        "# In Function we can have the different types of function aruguments are there .\n",
        "#They are default Arugument.\n",
        "#Keyword Arugument.\n",
        "#Arbitary Arugument.\n",
        "#postional arugumenet.\n"
      ],
      "metadata": {
        "id": "S26fHWpYV134"
      },
      "execution_count": null,
      "outputs": []
    },
    {
      "cell_type": "markdown",
      "source": [
        "**Default Arugument**:\n",
        "\n",
        "- A default argument is a parameter that assumes a default value if a value is not provided in the function call for that argument. The following example illustrates Default arguments to write functions in Python.\n",
        "\n",
        "Example:"
      ],
      "metadata": {
        "id": "PoKf8zD0aE81"
      }
    },
    {
      "cell_type": "code",
      "source": [
        "def my_funcction(x,y=90):\n",
        "  print(\"x:\",x)\n",
        "  print(\"y:\",y)\n",
        "my_funcction(50,)"
      ],
      "metadata": {
        "colab": {
          "base_uri": "https://localhost:8080/"
        },
        "id": "hap-KuFxaa15",
        "outputId": "998c74d5-bcf9-4f76-c32f-8a6681e277b7"
      },
      "execution_count": 7,
      "outputs": [
        {
          "output_type": "stream",
          "name": "stdout",
          "text": [
            "x: 50\n",
            "y: 90\n"
          ]
        }
      ]
    },
    {
      "cell_type": "code",
      "source": [
        "def details(age,name=\"amos\"):\n",
        "  print(\"name\",name)\n",
        "  print(\"age\",age)\n",
        "details(\"56\")"
      ],
      "metadata": {
        "colab": {
          "base_uri": "https://localhost:8080/"
        },
        "id": "wHEXZS9EavW_",
        "outputId": "1010cae8-0b63-4809-9d7e-147435e588b2"
      },
      "execution_count": 10,
      "outputs": [
        {
          "output_type": "stream",
          "name": "stdout",
          "text": [
            "name amos\n",
            "age 56\n"
          ]
        }
      ]
    },
    {
      "cell_type": "markdown",
      "source": [
        "**Keyword Arugument**.\n",
        "- if wecan call with a specific name.While in functioncalling\n",
        "\n",
        "Examples:\n"
      ],
      "metadata": {
        "id": "MkQVChtfb4vb"
      }
    },
    {
      "cell_type": "code",
      "source": [
        "def Employee(fristname,lastname):\n",
        "  print(\"fristname:\",fristname)\n",
        "  print(\"lastname:\",lastname)\n",
        "Employee(fristname=\"Amos\",lastname=\"karasal\")"
      ],
      "metadata": {
        "colab": {
          "base_uri": "https://localhost:8080/"
        },
        "id": "IGN0p0O-bkNY",
        "outputId": "d87fa0e2-bcad-4f4c-dc32-432574feb221"
      },
      "execution_count": 13,
      "outputs": [
        {
          "output_type": "stream",
          "name": "stdout",
          "text": [
            "fristname: Amos\n",
            "lastname: karasal\n"
          ]
        }
      ]
    },
    {
      "cell_type": "markdown",
      "source": [
        "#Arbitary Arugument.\n",
        "- In Python Arbitrary Keyword Arguments, *args, and **kwargs can pass a variable number of arguments to a function using special symbols. There are two special symbols:\n",
        "\n",
        "* args in Python (Non-Keyword Arguments)\n",
        "\n",
        "* kwargs in Python (Keyword Arguments)\n",
        "\n",
        "\n",
        "Examples:"
      ],
      "metadata": {
        "id": "aPAIdDcMdUTf"
      }
    },
    {
      "cell_type": "code",
      "source": [
        "def myfunction(*argsv):\n",
        "  for arg in argsv:\n",
        "    print(arg)\n",
        "myfunction(\"Hello\",\"Tesk\",\"Academy\")"
      ],
      "metadata": {
        "colab": {
          "base_uri": "https://localhost:8080/"
        },
        "id": "ajkBIsnrc9uz",
        "outputId": "7b15b297-e7eb-4269-9ae8-a93f4c94fcf6"
      },
      "execution_count": 15,
      "outputs": [
        {
          "output_type": "stream",
          "name": "stdout",
          "text": [
            "Hello\n",
            "Tesk\n",
            "Academy\n"
          ]
        }
      ]
    },
    {
      "cell_type": "code",
      "source": [
        "def program(**kwargs):\n",
        "  for keys,values in kwargs.items():\n",
        "    print(keys,values)#here keywords are keys,values\n",
        "program(name=\"hi\",name1=\"world!\")\n"
      ],
      "metadata": {
        "colab": {
          "base_uri": "https://localhost:8080/"
        },
        "id": "m45k14F7fNpk",
        "outputId": "16f7d663-a05e-44c4-c6d6-c27fba890fbd"
      },
      "execution_count": 19,
      "outputs": [
        {
          "output_type": "stream",
          "name": "stdout",
          "text": [
            "name hi\n",
            "name1 world!\n"
          ]
        }
      ]
    },
    {
      "cell_type": "markdown",
      "source": [
        "**Python Lambda Functions are anonymous functions means that the function is without a name. As we already know the def keyword is used to define a normal function in Python. Similarly, the lambda keyword is used to define an anonymous function in Python**.\n",
        "\n",
        "*Python Lambda Function Syntax*\n",
        "\n",
        "- Syntax: lambda arguments : expression\n",
        "\n",
        "- This function can have any number of arguments but only one expression, which is evaluated and returned.\n",
        "- One is free to use lambda functions wherever function objects are required.\n",
        "- You need to keep in your knowledge that lambda functions are syntactically restricted to a single expression.\n",
        "- It has various uses in particular fields of programming, besides other types of expressions in functions."
      ],
      "metadata": {
        "id": "gnuDVArXhari"
      }
    },
    {
      "cell_type": "code",
      "source": [
        "\n",
        "\n",
        "# Lambda functions are often stored in variables for reusability.\n",
        "# Here's an example demonstrating why we store lambda functions in variables:\n",
        "\n",
        "add = lambda x, y: x + y  # Store a lambda function that adds two numbers in the 'add' variable\n",
        "\n",
        "result = add(5, 3)  # Use the stored lambda function to perform addition\n",
        "print(result)  # Output: 8\n",
        "\n",
        "# In this case, the lambda function becomes a reusable piece of code,\n",
        "# allowing us to call it multiple times with different inputs without\n",
        "# having to redefine it repeatedly.\n"
      ],
      "metadata": {
        "id": "ph5WPI_IhWNe"
      },
      "execution_count": null,
      "outputs": []
    },
    {
      "cell_type": "code",
      "source": [
        "a =lambda c,d:c+d\n",
        "result=a(5,6)\n",
        "print(result)"
      ],
      "metadata": {
        "colab": {
          "base_uri": "https://localhost:8080/"
        },
        "id": "y0dL47LYjOUV",
        "outputId": "78edf39b-ec94-4746-b367-5e71fd704414"
      },
      "execution_count": 20,
      "outputs": [
        {
          "output_type": "stream",
          "name": "stdout",
          "text": [
            "11\n"
          ]
        }
      ]
    },
    {
      "cell_type": "code",
      "source": [
        "v=lambda even,odd:even%2==0\n",
        "result=v(6,5)\n",
        "print(result)\n"
      ],
      "metadata": {
        "colab": {
          "base_uri": "https://localhost:8080/"
        },
        "id": "15rZDgQOjvP4",
        "outputId": "f769a21f-9196-4316-a50b-dc123390832a"
      },
      "execution_count": 22,
      "outputs": [
        {
          "output_type": "stream",
          "name": "stdout",
          "text": [
            "True\n"
          ]
        }
      ]
    },
    {
      "cell_type": "markdown",
      "source": [
        "Lambda use along built function like filter(),map(),reduce().\n",
        "\n",
        "**Using lambda() Function with filter(**)\n",
        "\n",
        "The filter() function in Python takes in a function and a list as arguments. This offers an elegant way to filter out all the elements of a sequence “sequence”, for which the function returns True. Here is a small program that returns the odd numbers from an input list:"
      ],
      "metadata": {
        "id": "qov7CedblTn4"
      }
    },
    {
      "cell_type": "code",
      "source": [
        "li = [5, 7, 22, 97, 54, 62, 77, 23, 73, 61]\n",
        "\n",
        "final_list = list(filter(lambda x: (x % 2 != 0), li))   # here function name is final_list .IN this we can li as the arugument.\n",
        "print(final_list)     # here we can hve filter sequence is 5,7,97,77,23,73,61."
      ],
      "metadata": {
        "colab": {
          "base_uri": "https://localhost:8080/"
        },
        "id": "R1Ik68hBkYUV",
        "outputId": "901d8b7f-45d5-4fd5-a69d-5dc751b2c36d"
      },
      "execution_count": 23,
      "outputs": [
        {
          "output_type": "stream",
          "name": "stdout",
          "text": [
            "[5, 7, 97, 77, 23, 73, 61]\n"
          ]
        }
      ]
    },
    {
      "cell_type": "code",
      "source": [
        "li = [5, 7, 22, 97, 54, 62, 77, 23, 73, 61]\n",
        "\n",
        "final_list = list(filter(lambda x: (x % 2 == 0), li))\n",
        "print(final_list)"
      ],
      "metadata": {
        "colab": {
          "base_uri": "https://localhost:8080/"
        },
        "id": "-S1rvWXImY7p",
        "outputId": "091afc67-a834-4c97-c041-6f30df3e5e11"
      },
      "execution_count": 24,
      "outputs": [
        {
          "output_type": "stream",
          "name": "stdout",
          "text": [
            "[22, 54, 62]\n"
          ]
        }
      ]
    },
    {
      "cell_type": "code",
      "source": [
        "age = [12,18,14,34,56,78,65,50]\n",
        "final_list=list(filter(lambda x:x>=18,age))\n",
        "print(final_list)"
      ],
      "metadata": {
        "colab": {
          "base_uri": "https://localhost:8080/"
        },
        "id": "92jj2X0cmdiq",
        "outputId": "096c1114-d7fd-4200-cc8a-d91d4a55d6b4"
      },
      "execution_count": 26,
      "outputs": [
        {
          "output_type": "stream",
          "name": "stdout",
          "text": [
            "[18, 34, 56, 78, 65, 50]\n"
          ]
        }
      ]
    },
    {
      "cell_type": "markdown",
      "source": [
        "**Using lambda() Function with map()**\n",
        "\n",
        "The map() function in Python takes in a function and a list as an argument. The function is called with a lambda function and a list and a new list is returned which contains all the lambda-modified items returned by that function for each item."
      ],
      "metadata": {
        "id": "x3JgIGdhnocg"
      }
    },
    {
      "cell_type": "code",
      "source": [
        "Earth=['Animals','humanBeings','plants','soil','water','naturalresources']\n",
        "result_list=list(map(lambda v:v.upper(),Earth))\n",
        "print(result_list)    # here we can he new list compare than filter"
      ],
      "metadata": {
        "colab": {
          "base_uri": "https://localhost:8080/"
        },
        "id": "jY-uQpg5nWjW",
        "outputId": "c5f11865-e8af-41fa-a52f-f6ecf1f0e239"
      },
      "execution_count": 27,
      "outputs": [
        {
          "output_type": "stream",
          "name": "stdout",
          "text": [
            "['ANIMALS', 'HUMANBEINGS', 'PLANTS', 'SOIL', 'WATER', 'NATURALRESOURCES']\n"
          ]
        }
      ]
    },
    {
      "cell_type": "code",
      "source": [
        "a =['a','e','i','o','u','A','E','I','O','U']\n",
        "result_list=list(map(lambda v:v.lower(),a))\n",
        "print(result_list)"
      ],
      "metadata": {
        "colab": {
          "base_uri": "https://localhost:8080/"
        },
        "id": "uMENBN5Ao2dZ",
        "outputId": "7ebcdc84-9266-47c1-deb3-483f43ab7357"
      },
      "execution_count": 28,
      "outputs": [
        {
          "output_type": "stream",
          "name": "stdout",
          "text": [
            "['a', 'e', 'i', 'o', 'u', 'a', 'e', 'i', 'o', 'u']\n"
          ]
        }
      ]
    },
    {
      "cell_type": "code",
      "source": [],
      "metadata": {
        "id": "mukMKoDWpkfQ"
      },
      "execution_count": null,
      "outputs": []
    }
  ]
}