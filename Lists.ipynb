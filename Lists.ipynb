{
  "nbformat": 4,
  "nbformat_minor": 0,
  "metadata": {
    "colab": {
      "provenance": [],
      "authorship_tag": "ABX9TyOPr/OUm1R4U/r8LooNgLCX",
      "include_colab_link": true
    },
    "kernelspec": {
      "name": "python3",
      "display_name": "Python 3"
    },
    "language_info": {
      "name": "python"
    }
  },
  "cells": [
    {
      "cell_type": "markdown",
      "metadata": {
        "id": "view-in-github",
        "colab_type": "text"
      },
      "source": [
        "<a href=\"https://colab.research.google.com/github/Amos0707/python/blob/main/Lists.ipynb\" target=\"_parent\"><img src=\"https://colab.research.google.com/assets/colab-badge.svg\" alt=\"Open In Colab\"/></a>"
      ]
    },
    {
      "cell_type": "markdown",
      "source": [
        "**Python Lists:**\n",
        "\n",
        "- A Python list is an ordered collection of items, which can store different data types such as integers, strings, floats,or even other lists.\n",
        "\n",
        "- Lists are mutable, meaning you can change their contents (add, remove, or modify items) after they are created."
      ],
      "metadata": {
        "id": "pu_62vkq5FEE"
      }
    },
    {
      "cell_type": "code",
      "source": [
        "\n",
        "\n",
        "# List of integers\n",
        "numbers = [1, 2, 3, 4, 5]\n",
        "\n",
        "# List of strings\n",
        "fruits = ['apple', 'banana', 'orange']\n",
        "\n",
        "# List of mixed data types\n",
        "mixed_list = [1, 'hello', 3.14, True]\n",
        "\n",
        "# List of lists (nested lists)\n",
        "nested_list = [[1, 2, 3], [4, 5, 6], [7, 8, 9]]\n",
        "\n",
        "print(\"Numbers:\", numbers)\n",
        "print(\"Fruits:\", fruits)\n",
        "print(\"Mixed List:\", mixed_list)\n",
        "print(\"Nested List:\", nested_list)\n"
      ],
      "metadata": {
        "id": "c8v7QF2R5UE2"
      },
      "execution_count": null,
      "outputs": []
    },
    {
      "cell_type": "markdown",
      "source": [
        "**Characterstics of list**\n",
        "\n",
        "- Ordered: Lists maintain the order of elements as they are added. Example: my_list = [1, 2, 3] will always keep the elements in this order.\n",
        "\n",
        "- Mutable: Lists can be changed after creation (you can add, remove, or modify elements). Example: my_list[0] = 10 changes the first element to 10.\n",
        "\n",
        "- Indexed: Each element in a list has an index, starting from 0. Example: my_list[1] gives the second element in the list.\n",
        "\n",
        "- Heterogeneous: Lists can store different data types together. Example: my_list = [1, \"apple\", 3.5] has an integer, string, and float.\n",
        "\n",
        "- Dynamic size: Lists can grow or shrink in size as elements are added or removed. Example: my_list.append(4) adds a new element to the list\n",
        "\n",
        "**List elements**\n",
        "\n",
        "- List elements are the individual items or values that are stored within a list in Python. A list is a collection of these elements, and each element can be of any data type, such as integers, strings, floats, or even other lists.\n",
        "\n",
        "**Access List Elements**\n",
        "\n",
        "- In Python, you can access elements of a list using indexing, slicing, and negative indexing. Here’s how you can do it:\n",
        "\n",
        "**Indexing**\n",
        "\n",
        "- You access a specific element in a list by its index (position).\n",
        "\n",
        "- Index starts at 0: The first item is at index 0, the second at index 1, and so on.\n",
        "\n",
        "**Positive Index**\n",
        "- Positive indexing starts from the beginning of the list, with the first element at index 0, the second element at index 1, and so on.\n",
        "Positive indexing counts from the start (0, 1, 2...)"
      ],
      "metadata": {
        "id": "pOpjgdZD5c90"
      }
    },
    {
      "cell_type": "code",
      "source": [
        "\n",
        "\n",
        "my_list = ['apple', 'banana', 'cherry', 'date', 'elderberry']\n",
        "\n",
        "# Accessing the first element (index 0)\n",
        "first_element = my_list[0]\n",
        "print(\"First element:\", first_element)\n",
        "\n",
        "# Accessing the third element (index 2)\n",
        "third_element = my_list[2]\n",
        "print(\"Third element:\", third_element)\n",
        "\n",
        "# Accessing the last element (index 4)\n",
        "last_element = my_list[4]\n",
        "print(\"Last element:\", last_element)\n"
      ],
      "metadata": {
        "colab": {
          "base_uri": "https://localhost:8080/"
        },
        "id": "q8Ocnmaa6siw",
        "outputId": "f53e1be2-885d-4424-cb18-96c94a44edef"
      },
      "execution_count": null,
      "outputs": [
        {
          "output_type": "stream",
          "name": "stdout",
          "text": [
            "First element: apple\n",
            "Third element: cherry\n",
            "Last element: elderberry\n"
          ]
        }
      ]
    },
    {
      "cell_type": "markdown",
      "source": [
        "**Negative Index**\n",
        "\n",
        "- Negative indexing starts from the end of the list, with the last element at index -1, the second last element at index -2, and so on.\n",
        "- Negative indexing counts from the end (-1, -2, -3...)."
      ],
      "metadata": {
        "id": "ckWT_bsY7GVX"
      }
    },
    {
      "cell_type": "code",
      "source": [
        "\n",
        "\n",
        "my_list = ['apple', 'banana', 'cherry', 'date', 'elderberry']\n",
        "\n",
        "# Accessing the last element (index -1)\n",
        "last_element = my_list[-1]\n",
        "print(\"Last element:\", last_element)\n",
        "\n",
        "# Accessing the second last element (index -2)\n",
        "second_last_element = my_list[-2]\n",
        "print(\"Second last element:\", second_last_element)\n",
        "\n",
        "# Accessing the third last element (index -3)\n",
        "third_last_element = my_list[-3]\n",
        "print(\"Third last element:\", third_last_element)\n"
      ],
      "metadata": {
        "colab": {
          "base_uri": "https://localhost:8080/"
        },
        "id": "aMbbLFWb7R71",
        "outputId": "2c2e768b-272e-47ff-84c0-1375e24c7fc5"
      },
      "execution_count": null,
      "outputs": [
        {
          "output_type": "stream",
          "name": "stdout",
          "text": [
            "Last element: elderberry\n",
            "Second last element: date\n",
            "Third last element: cherry\n"
          ]
        }
      ]
    },
    {
      "cell_type": "markdown",
      "source": [
        " example of postive & negative index."
      ],
      "metadata": {
        "id": "T97cXu7j8BBx"
      }
    },
    {
      "cell_type": "code",
      "source": [
        "my_list = [\"apple\", \"banana\", \"cherry\", \"tomato\", \"pumkin\"]\n",
        "\n",
        "print(my_list[0])\n",
        "print(my_list[1])\n",
        "print(my_list[2])\n",
        "print(my_list[3])\n",
        "print(my_list[4])\n",
        "\n",
        "\n",
        "my_list = [\"orange\", \"banana\", \"cherry\", \"dates\", \"blueberry\"]\n",
        "\n",
        "print(my_list[-1])  # Last element\n",
        "print(my_list[-2])  # Second last element\n",
        "print(my_list[-3])  # Third last element\n",
        "print(my_list[-4])  # Fourth last element\n",
        "print(my_list[-5])  # Fifth last element\n",
        "apple"
      ],
      "metadata": {
        "id": "_y3eewmz75CC"
      },
      "execution_count": null,
      "outputs": []
    },
    {
      "cell_type": "markdown",
      "source": [
        "**List Operations**\n",
        "\n",
        "- List operations in Python allow you to manipulate and interact with lists in various ways."
      ],
      "metadata": {
        "id": "h0OmAsZq8MGM"
      }
    },
    {
      "cell_type": "markdown",
      "source": [
        "**Concatenation**\n",
        "\n",
        "- Concatenation is the process of joining two or more lists to form a single list.\n",
        "- Use the + operator to concatenate lists.\n",
        "- Concatenation joins lists together."
      ],
      "metadata": {
        "id": "AjyEbMvy8fHM"
      }
    },
    {
      "cell_type": "code",
      "source": [
        "\n",
        "\n",
        "list1 = [1, 2, 3]\n",
        "list2 = [4, 5, 6]\n",
        "\n",
        "concatenated_list = list1 + list2\n",
        "\n",
        "print(\"Concatenated list:\", concatenated_list)\n"
      ],
      "metadata": {
        "id": "XtItyE998pBN",
        "colab": {
          "base_uri": "https://localhost:8080/"
        },
        "outputId": "3ebda4f4-4e2e-4607-8331-5f3cab3a3c02"
      },
      "execution_count": 3,
      "outputs": [
        {
          "output_type": "stream",
          "name": "stdout",
          "text": [
            "Concatenated list: [1, 2, 3, 4, 5, 6]\n"
          ]
        }
      ]
    },
    {
      "cell_type": "markdown",
      "source": [],
      "metadata": {
        "id": "n03B4_pM9jAu"
      }
    },
    {
      "cell_type": "code",
      "source": [
        "\n",
        "\n",
        "# Example 1: Concatenating lists of strings\n",
        "colors1 = [\"red\", \"green\", \"blue\"]\n",
        "colors2 = [\"yellow\", \"orange\", \"purple\"]\n",
        "\n",
        "all_colors = colors1 + colors2\n",
        "print(\"All colors:\", all_colors)\n",
        "\n",
        "\n",
        "# Example 2: Concatenating lists with mixed data types\n",
        "list1 = [1, 2, \"apple\"]\n",
        "list2 = [True, 3.14, \"banana\"]\n",
        "\n",
        "combined_list = list1 + list2\n",
        "print(\"Combined list:\", combined_list)\n",
        "\n",
        "\n",
        "# Example 3: Concatenating empty lists\n",
        "empty_list = []\n",
        "numbers = [1, 2, 3]\n",
        "\n",
        "new_list = empty_list + numbers\n",
        "print(\"New list:\", new_list)\n"
      ],
      "metadata": {
        "id": "siIkOCtH9tJr"
      },
      "execution_count": null,
      "outputs": []
    },
    {
      "cell_type": "code",
      "source": [],
      "metadata": {
        "id": "9S3Cfhq99gCP"
      },
      "execution_count": null,
      "outputs": []
    }
  ]
}