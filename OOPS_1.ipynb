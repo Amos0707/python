{
  "nbformat": 4,
  "nbformat_minor": 0,
  "metadata": {
    "colab": {
      "provenance": [],
      "authorship_tag": "ABX9TyMYfA0L8hnmGwDA25QQ6TVV",
      "include_colab_link": true
    },
    "kernelspec": {
      "name": "python3",
      "display_name": "Python 3"
    },
    "language_info": {
      "name": "python"
    }
  },
  "cells": [
    {
      "cell_type": "markdown",
      "metadata": {
        "id": "view-in-github",
        "colab_type": "text"
      },
      "source": [
        "<a href=\"https://colab.research.google.com/github/Amos0707/python/blob/main/OOPS_1.ipynb\" target=\"_parent\"><img src=\"https://colab.research.google.com/assets/colab-badge.svg\" alt=\"Open In Colab\"/></a>"
      ]
    },
    {
      "cell_type": "markdown",
      "source": [
        "**OOPS**\n",
        "\n",
        " OOPS(Object Oriented Programming) is a fundamental concept in Python, empowering developers to build modular, maintainable, and scalable applications. By understanding the core OOP principles—classes, objects, inheritance, encapsulation, polymorphism, and abstraction—programmers can leverage the full potential of Python’s OOP capabilities to design elegant and efficient solutions to complex problems.\n",
        "\n",
        "**What is Object-Oriented Programming in Python?**\n",
        "- In Python object-oriented Programming (OOPs) is a programming paradigm that uses objects and classes in programming.  \n",
        "- It aims to implement real-world entities like inheritance, polymorphisms, encapsulation, etc. in the programming.\n",
        "- The main concept of object-oriented Programming (OOPs) or oops concepts in Python is to bind the data and the functions that work together as a single unit so that no other part of the code can access this data."
      ],
      "metadata": {
        "id": "ODLWzuYs6ZP4"
      }
    },
    {
      "cell_type": "markdown",
      "source": [
        "**OOPs Concepts in Python**\n",
        "- Class in Python\n",
        "- Objects in Python\n",
        "- Polymorphism in Python\n",
        "- Encapsulation in Python\n",
        "- Inheritance in Python\n",
        "- Data Abstraction in Python"
      ],
      "metadata": {
        "id": "5fJcyQnU6Yoa"
      }
    },
    {
      "cell_type": "markdown",
      "source": [
        "**Python Class **\n",
        "\n",
        "- A class is a collection of objects. A class contains the blueprints or the prototype from which the objects are being created. It is a logical entity that contains some attributes and methods.\n",
        "\n",
        "- To understand the need for creating a class let’s consider an example, let’s say you wanted to track the number of dogs that may have different attributes like breed, and age. If a list is used, the first element could be the dog’s breed while the second element could represent its age. Let’s suppose there are 100 different dogs, then how would you know which element is supposed to be which? What if you wanted to add other properties to these dogs? This lacks organization and it’s the exact need for classes.\n",
        "\n",
        "**Some points on Python class ** :  \n",
        "\n",
        "- Classes are created by keyword class.\n",
        "- Attributes are the variables that belong to a class.\n",
        "- Attributes are always public and can be accessed using the dot (.) operator. Eg.: Myclass.Myattribute\n",
        "Class Definition Syntax:\n",
        "\n",
        "class ClassName:\n",
        "   # Statement-1\n",
        "   .\n",
        "   .\n",
        "   .\n",
        "   # Statement-N"
      ],
      "metadata": {
        "id": "Mor6ge3sAD4L"
      }
    },
    {
      "cell_type": "code",
      "source": [
        "class apple:\n",
        "  pass"
      ],
      "metadata": {
        "id": "65078gBQBBik"
      },
      "execution_count": 54,
      "outputs": []
    },
    {
      "cell_type": "code",
      "execution_count": 32,
      "metadata": {
        "id": "7QMIsk-FUzFb"
      },
      "outputs": [],
      "source": [
        "class BenTen:\n",
        "  def animation(name):\n",
        "    print(f\"{name}\")"
      ]
    },
    {
      "cell_type": "code",
      "source": [
        "obj =BenTen\n",
        "obj.animation(\"HI\")\n"
      ],
      "metadata": {
        "colab": {
          "base_uri": "https://localhost:8080/"
        },
        "id": "_m1dZrQFcgj6",
        "outputId": "f3e65ebe-2257-48b8-cdd1-2bdae88ecdf8"
      },
      "execution_count": 33,
      "outputs": [
        {
          "output_type": "stream",
          "name": "stdout",
          "text": [
            "HI\n"
          ]
        }
      ]
    },
    {
      "cell_type": "markdown",
      "source": [
        "HERE we are using without init instillazier"
      ],
      "metadata": {
        "id": "bxdaERG0u9Ju"
      }
    },
    {
      "cell_type": "code",
      "source": [
        "a= input(\"Enter a  frist name:\")\n",
        "b= input(\"Enter a  last name:\")\n",
        "c= int(input(\"Enter  an id\"))"
      ],
      "metadata": {
        "colab": {
          "base_uri": "https://localhost:8080/"
        },
        "id": "qsJ4LrBKdNVR",
        "outputId": "2cc8b7c2-d863-49f3-a643-12fc4fc1d0a0"
      },
      "execution_count": 44,
      "outputs": [
        {
          "name": "stdout",
          "output_type": "stream",
          "text": [
            "Enter a name:Amos\n",
            "Enter a name:karasala\n",
            "Enter  an id213\n"
          ]
        }
      ]
    },
    {
      "cell_type": "code",
      "source": [
        "class student:\n",
        "  def details(name,age,id):\n",
        "    print(f\"Name:{name}  Age:{age} Id:{id}\")"
      ],
      "metadata": {
        "id": "jAcxy4fzd7bR"
      },
      "execution_count": 45,
      "outputs": []
    },
    {
      "cell_type": "code",
      "source": [
        "o= student\n",
        "o.details(a,b,c)\n",
        "print(o)"
      ],
      "metadata": {
        "colab": {
          "base_uri": "https://localhost:8080/"
        },
        "id": "REhj_zvltg_n",
        "outputId": "9d74aecd-3735-4d2b-c583-0289bd4c1e78"
      },
      "execution_count": 87,
      "outputs": [
        {
          "output_type": "stream",
          "name": "stdout",
          "text": [
            "Name:Amos  Age:karasala Id:213\n",
            "<class '__main__.student'>\n"
          ]
        }
      ]
    },
    {
      "cell_type": "code",
      "source": [
        "class employee:\n",
        "  def details(name,age,id):\n",
        "    print(f\"Name:{name}  Age:{age} Id:{id}\")"
      ],
      "metadata": {
        "id": "dD0h8ACVtqpm"
      },
      "execution_count": 47,
      "outputs": []
    },
    {
      "cell_type": "code",
      "source": [
        "ob = employee\n",
        "ob.details(a,b,c)"
      ],
      "metadata": {
        "colab": {
          "base_uri": "https://localhost:8080/"
        },
        "id": "99SYs5ZgxLS7",
        "outputId": "325204c8-7eb2-4c20-9ad1-d0507f931a0d"
      },
      "execution_count": 48,
      "outputs": [
        {
          "output_type": "stream",
          "name": "stdout",
          "text": [
            "Name:Amos  Age:karasala Id:213\n"
          ]
        }
      ]
    },
    {
      "cell_type": "code",
      "source": [
        "# in the above code how the output came?\n",
        "# because the before the employess,i have the student details . It can be base on the function arugument are same .so that it can be give the output."
      ],
      "metadata": {
        "id": "p8yeLPodxRe_"
      },
      "execution_count": null,
      "outputs": []
    },
    {
      "cell_type": "code",
      "source": [
        "class worker:\n",
        "  def details(nam,salary,location):\n",
        "    print(f\"nam:{nam}  salary:{salary} location:{location}\")"
      ],
      "metadata": {
        "id": "BdexTa4Vyl_v"
      },
      "execution_count": 49,
      "outputs": []
    },
    {
      "cell_type": "code",
      "source": [
        "j= worker\n",
        "j.details(\"joe\")"
      ],
      "metadata": {
        "colab": {
          "base_uri": "https://localhost:8080/",
          "height": 158
        },
        "id": "UL_vjDQ3zFg6",
        "outputId": "6ec0516a-993e-477c-e674-c77c8f92a30f"
      },
      "execution_count": 53,
      "outputs": [
        {
          "output_type": "error",
          "ename": "TypeError",
          "evalue": "worker.details() missing 2 required positional arguments: 'salary' and 'location'",
          "traceback": [
            "\u001b[0;31m---------------------------------------------------------------------------\u001b[0m",
            "\u001b[0;31mTypeError\u001b[0m                                 Traceback (most recent call last)",
            "\u001b[0;32m<ipython-input-53-be196111c5d0>\u001b[0m in \u001b[0;36m<cell line: 2>\u001b[0;34m()\u001b[0m\n\u001b[1;32m      1\u001b[0m \u001b[0mj\u001b[0m\u001b[0;34m=\u001b[0m \u001b[0mworker\u001b[0m\u001b[0;34m\u001b[0m\u001b[0;34m\u001b[0m\u001b[0m\n\u001b[0;32m----> 2\u001b[0;31m \u001b[0mj\u001b[0m\u001b[0;34m.\u001b[0m\u001b[0mdetails\u001b[0m\u001b[0;34m(\u001b[0m\u001b[0;34m\"joe\"\u001b[0m\u001b[0;34m)\u001b[0m\u001b[0;34m\u001b[0m\u001b[0;34m\u001b[0m\u001b[0m\n\u001b[0m",
            "\u001b[0;31mTypeError\u001b[0m: worker.details() missing 2 required positional arguments: 'salary' and 'location'"
          ]
        }
      ]
    },
    {
      "cell_type": "markdown",
      "source": [
        "\n",
        "Hypothesis\n",
        "The traceback indicates that the worker class has not been defined. Looking at the code, there may be a couple of reasons for this:\n",
        "\n",
        "The code defining the worker class was not executed.\n",
        "The code defining the worker class may have been executed in a different scope or kernel, therefore the current kernel does not recognize this class.\n",
        "The class was defined as a variable earlier and has been overwritten\n",
        "\n"
      ],
      "metadata": {
        "id": "yL4xZnkgzt7E"
      }
    },
    {
      "cell_type": "code",
      "source": [
        "class worker:\n",
        "  def details(nam,salary,location):\n",
        "    print(f\"nam:{nam}  salary:{salary} location:{location}\")\n",
        "\n",
        "j = worker\n",
        "j.details('john', 100000, 'New York') # Added arguments to the details function"
      ],
      "metadata": {
        "colab": {
          "base_uri": "https://localhost:8080/"
        },
        "id": "TTPJX3cfzQM2",
        "outputId": "9bc22bc7-00a3-4368-ec46-70187ae6e716"
      },
      "execution_count": 52,
      "outputs": [
        {
          "output_type": "stream",
          "name": "stdout",
          "text": [
            "nam:john  salary:100000 location:New York\n"
          ]
        }
      ]
    },
    {
      "cell_type": "markdown",
      "source": [
        "**The Python self **\n",
        "- Class methods must have an extra first parameter in the method definition. We do not give a value for this parameter when we call the method, Python provides it\n",
        "- If we have a method that takes no arguments, then we still have to have one argument.\n",
        "- This is similar to this pointer in C++ and this reference in Java.\n",
        "When we call a method of this object as myobject.method(arg1, arg2), this is automatically converted by Python into MyClass.method(myobject, arg1, arg2) – this is all the special self is about.\n",
        "\n",
        "Note: For more information, refer to self in the Python class\n",
        "\n",
        "**The Python __init__ Method **\n",
        "\n",
        "- The __init__ method is similar to constructors in C++ and Java. It is run as soon as an object of a class is instantiated.  \n",
        "- The method is useful to do any initialization you want to do with your object.\n",
        "- Now let us define a class and create some objects using the self and __init__ method"
      ],
      "metadata": {
        "id": "OLu4o_vOCTtB"
      }
    },
    {
      "cell_type": "code",
      "source": [
        "class vechile:\n",
        "  def __init__(self,engine,seats, backdoors):\n",
        "    self.engine = engine\n",
        "    self.seats = seats\n",
        "    self.backdoors = backdoors\n",
        "  def kick(self):\n",
        "    print(f\"engine:{self.engine}  seats:{self.seats} backdoors:{self.backdoors}\")"
      ],
      "metadata": {
        "id": "Gmippm460Dm-"
      },
      "execution_count": 55,
      "outputs": []
    },
    {
      "cell_type": "code",
      "source": [
        "obj = vechile(\"Bugatti Mistral\",4,2)\n",
        "obj.kick()"
      ],
      "metadata": {
        "colab": {
          "base_uri": "https://localhost:8080/"
        },
        "id": "g8FxLL2wFaGu",
        "outputId": "ecad1407-f525-4f74-8713-6059246ae3cc"
      },
      "execution_count": 56,
      "outputs": [
        {
          "output_type": "stream",
          "name": "stdout",
          "text": [
            "engine:Bugatti Mistral  seats:4 backdoors:2\n"
          ]
        }
      ]
    },
    {
      "cell_type": "code",
      "source": [
        "# Here we are using __init __instillazier,self,classmethod, And  object creating\n",
        "class Auto:\n",
        "  def __init__(self,name,year,price):\n",
        "    self.name = name\n",
        "    self.year = year\n",
        "    self.price = price\n",
        "  def sartbutton(self):\n",
        "      print(f\"name:{self.name}  year:{self.year} price:{self.price}\")\n",
        "  def juiiii(self):\n",
        "        print(f\"name:{self.name}  year:{self.year} price:{self.price}\")\n",
        "\n",
        "j = Auto(\"AIPOAuto\",2015,50000)\n",
        "j.sartbutton()\n",
        "\n",
        "k = Auto(\"sound\",20000,1000000)\n",
        "k.juiiii()"
      ],
      "metadata": {
        "colab": {
          "base_uri": "https://localhost:8080/"
        },
        "id": "za2mIQOVF9W_",
        "outputId": "95790982-91d0-4314-d115-430135e41c74"
      },
      "execution_count": 61,
      "outputs": [
        {
          "output_type": "stream",
          "name": "stdout",
          "text": [
            "name:AIPOAuto  year:2015 price:50000\n",
            "name:sound  year:20000 price:1000000\n"
          ]
        }
      ]
    },
    {
      "cell_type": "markdown",
      "source": [
        "In Python, __str__ is a special method that allows you to define how an object should be represented as a string.\n",
        "\n",
        "Here's what you need to know:\n",
        "\n",
        "- Purpose: The __str__ method is used to provide a human-readable string representation of an object.\n",
        "\n",
        "- It's called when you use the str() function on an object, or when you try to print the object directly.\n",
        "- Implementation: You can define the __str__ method within a class. It should return a string that describes the object in a meaningful way."
      ],
      "metadata": {
        "id": "bXQuFz2RJUvB"
      }
    },
    {
      "cell_type": "code",
      "source": [
        "class Drivers:\n",
        "  def employess(self,name,Experence,salary):\n",
        "    self.name =name\n",
        "    self.Experence = Experence\n",
        "    self.salary = salary\n",
        "  def __str__(self):\n",
        "    return f\"name:{self.name}  Experence:{self.Experence} salary:{self.salary}\"\n",
        "\n",
        "ex=Drivers()\n",
        "ex.employess(\"joe\",3,4567)\n",
        "print(ex)\n",
        ""
      ],
      "metadata": {
        "colab": {
          "base_uri": "https://localhost:8080/"
        },
        "id": "xybUbLXsIQYk",
        "outputId": "312e0b11-3f71-4273-cd00-d0dde848a657"
      },
      "execution_count": 86,
      "outputs": [
        {
          "output_type": "stream",
          "name": "stdout",
          "text": [
            "name:joe  Experence:3 salary:4567\n"
          ]
        }
      ]
    },
    {
      "cell_type": "code",
      "source": [
        "class Person:\n",
        "    def __init__(self, name, age):\n",
        "        self.name = name\n",
        "        self.age = age\n",
        "\n",
        "    def __str__(self):\n",
        "        return f\"Person(name={self.name}, age={self.age})\"\n",
        "\n",
        "person = Person(\"Alice\", 30)\n",
        "print(person)"
      ],
      "metadata": {
        "colab": {
          "base_uri": "https://localhost:8080/"
        },
        "id": "LhyQywZVMltH",
        "outputId": "fa8362ef-59d1-479a-c3e0-5fe31d063d7f"
      },
      "execution_count": 78,
      "outputs": [
        {
          "output_type": "stream",
          "name": "stdout",
          "text": [
            "Person(name=Alice, age=30)\n"
          ]
        }
      ]
    },
    {
      "cell_type": "code",
      "source": [],
      "metadata": {
        "id": "ZYghuwbcN_aX"
      },
      "execution_count": null,
      "outputs": []
    }
  ]
}