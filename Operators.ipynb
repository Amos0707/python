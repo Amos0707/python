{
  "nbformat": 4,
  "nbformat_minor": 0,
  "metadata": {
    "colab": {
      "provenance": [],
      "authorship_tag": "ABX9TyMxB9ohJbsRknt2L3R2y+G9",
      "include_colab_link": true
    },
    "kernelspec": {
      "name": "python3",
      "display_name": "Python 3"
    },
    "language_info": {
      "name": "python"
    }
  },
  "cells": [
    {
      "cell_type": "markdown",
      "metadata": {
        "id": "view-in-github",
        "colab_type": "text"
      },
      "source": [
        "<a href=\"https://colab.research.google.com/github/Amos0707/python/blob/main/Operators.ipynb\" target=\"_parent\"><img src=\"https://colab.research.google.com/assets/colab-badge.svg\" alt=\"Open In Colab\"/></a>"
      ]
    },
    {
      "cell_type": "code",
      "execution_count": null,
      "metadata": {
        "id": "cmhOApCLpx7X"
      },
      "outputs": [],
      "source": []
    },
    {
      "cell_type": "markdown",
      "source": [
        "**Python Operators**\n",
        "\n",
        "- Python operators are special symbols or keywords that perform operations on variables and values.\n",
        "\n",
        "- They can be categorized into different types based on their functionality."
      ],
      "metadata": {
        "id": "TxBRQ1BMx6q7"
      }
    },
    {
      "cell_type": "markdown",
      "source": [
        "**Types of Operators**\n",
        "\n",
        "\n",
        "**Arithemtic Operators**\n",
        "\n",
        "These operators are used for mathematical calculations like addition, subtraction, multiplication, etc.\n",
        "\n",
        "+: Addition\n",
        "-: Subtraction\n",
        "*: Multiplication\n",
        "/: Division\n",
        "%: Modulus (remainder after division)\n",
        "**: Exponentiation (power)\n",
        "//: Floor"
      ],
      "metadata": {
        "id": "IF3OAGJTyPX_"
      }
    },
    {
      "cell_type": "markdown",
      "source": [
        "**Examples**"
      ],
      "metadata": {
        "id": "4DiuBFQDyj_Q"
      }
    },
    {
      "cell_type": "code",
      "source": [
        "# Addition\n",
        "print(8 + 2)\n",
        "\n",
        "# Subtraction\n",
        "print(20 - 8)\n",
        "\n",
        "# Multiplication\n",
        "print(7* 8)\n",
        "\n",
        "# Division\n",
        "print(24 / 4)\n",
        "\n",
        "# Modulus\n",
        "print(10 % 3)\n",
        "\n",
        "# Exponentiation\n",
        "print(2 ** 3)\n",
        "\n",
        "# Floor Division\n",
        "print(9 // 2)\n",
        "\n",
        "# Mixed Operations\n",
        "print(3 + 4 * 2)\n",
        "\n",
        "# Parentheses for Order of Operations\n",
        "print((3 + 4) * 2)\n",
        "\n",
        "# Negative Numbers\n",
        "print(-7 + 2)"
      ],
      "metadata": {
        "colab": {
          "base_uri": "https://localhost:8080/"
        },
        "id": "y2MjQsu_ypLB",
        "outputId": "63424374-6a77-42b5-fd8f-bd66c126c70f"
      },
      "execution_count": 1,
      "outputs": [
        {
          "output_type": "stream",
          "name": "stdout",
          "text": [
            "10\n",
            "12\n",
            "56\n",
            "6.0\n",
            "1\n",
            "8\n",
            "4\n",
            "11\n",
            "14\n",
            "-5\n"
          ]
        }
      ]
    },
    {
      "cell_type": "markdown",
      "source": [
        "**Comparision operators**\n",
        "\n",
        "Comparison operators are used to compare two values and determine the relationship between them. These operators are often used in conditional statements to control the flow of a program based on certain conditions.\n",
        "\n",
        "* Equal to (==): Checks if two values   are equal.\n",
        "\n",
        "* Not equal to (!=): Checks if two values are not equal.\n",
        "\n",
        "- Greater than (>): Checks if the value on the left is greater than the value on the right.\n",
        "\n",
        "- Less than (<): Checks if the value on the left is less than the value on the right.\n",
        "\n",
        "- Greater than or equal to (>=): Checks if the value on the left is greater than or equal to the value on the right.\n",
        "\n",
        "- Less than or equal to (<=): Checks if the value on the left is less than or equal to the value on the right."
      ],
      "metadata": {
        "id": "excUw8GOyvMT"
      }
    },
    {
      "cell_type": "markdown",
      "source": [
        "**Examples**"
      ],
      "metadata": {
        "id": "nN1VChdtzIIR"
      }
    },
    {
      "cell_type": "code",
      "source": [
        "# Equal to\n",
        "print(7 == 7)\n",
        "# Not equal to\n",
        "print(8 != 3)\n",
        "# Greater than\n",
        "print(12 > 5)\n",
        "# Less than\n",
        "print(10 < 15)\n",
        "# Greater than or equal to\n",
        "print(10 >= 10)\n",
        "# Less than or equal to\n",
        "print(5 <= 7)\n",
        "print(\"mango\" == \"apple\")\n",
        "print(5 == 5.0)\n",
        "print(1 < 2 < 3)\n",
        "print([1, 2] == [1, 2])"
      ],
      "metadata": {
        "colab": {
          "base_uri": "https://localhost:8080/"
        },
        "id": "HzBG0VIPzLIA",
        "outputId": "5afd2b84-64cc-4c9b-c284-d3752a9c9954"
      },
      "execution_count": 2,
      "outputs": [
        {
          "output_type": "stream",
          "name": "stdout",
          "text": [
            "True\n",
            "True\n",
            "True\n",
            "True\n",
            "True\n",
            "True\n",
            "False\n",
            "True\n",
            "True\n",
            "True\n"
          ]
        }
      ]
    },
    {
      "cell_type": "code",
      "source": [
        "\n",
        "\n",
        "# Assignment Operators\n",
        "\n",
        "# Assignment operators are used to assign values to variables.\n",
        "# The most common assignment operator is the equal sign (=).\n",
        "# Other assignment operators are shorthand ways of performing an operation and assigning the result to a variable.\n",
        "\n",
        "\n",
        "# =: Assigns a value to a variable.\n",
        "# Example\n",
        "x = 10\n",
        "print(x)  # Output: 10\n",
        "\n",
        "# +=: Adds the right-hand side value to the left-hand side variable and assigns the result to the variable.\n",
        "# Example\n",
        "x = 10\n",
        "x += 5  # Equivalent to x = x + 5\n",
        "print(x)  # Output: 15\n",
        "\n",
        "\n",
        "# -=: Subtracts the right-hand side value from the left-hand side variable and assigns the result to the variable.\n",
        "# Example\n",
        "x = 10\n",
        "x -= 5  # Equivalent to x = x - 5\n",
        "print(x)  # Output: 5\n",
        "\n",
        "# *=: Multiplies the left-hand side variable by the right-hand side value and assigns the result to the variable.\n",
        "# Example\n",
        "x = 10\n",
        "x *= 5  # Equivalent to x = x * 5\n",
        "print(x)  # Output: 50\n",
        "\n",
        "# /=: Divides the left-hand side variable by the right-hand side value and assigns the result to the variable.\n",
        "# Example\n",
        "x = 10\n",
        "x /= 2  # Equivalent to x = x / 2\n",
        "print(x)  # Output: 5.0\n",
        "\n",
        "\n",
        "# %=: Calculates the modulus (remainder) of the left-hand side variable divided by the right-hand side value and assigns the result to the variable.\n",
        "# Example\n",
        "x = 10\n",
        "x %= 3  # Equivalent to x = x % 3\n",
        "print(x)  # Output: 1\n",
        "\n",
        "# //=: Performs floor division of the left-hand side variable by the right-hand side value and assigns the result to the variable.\n",
        "# Example\n",
        "x = 10\n",
        "x //= 3  # Equivalent to x = x // 3\n",
        "print(x)  # Output: 3\n",
        "\n",
        "# **=: Raises the left-hand side variable to the power of the right-hand side value and assigns the result to the variable.\n",
        "# Example\n",
        "x = 2\n",
        "x **= 3  # Equivalent to x = x ** 3\n",
        "print(x)  # Output: 8\n"
      ],
      "metadata": {
        "colab": {
          "base_uri": "https://localhost:8080/"
        },
        "id": "iKhYfpIuzOU7",
        "outputId": "7fb39a6a-3b4a-40b5-b4a4-bc53f6fb4499"
      },
      "execution_count": 3,
      "outputs": [
        {
          "output_type": "stream",
          "name": "stdout",
          "text": [
            "10\n",
            "15\n",
            "5\n",
            "50\n",
            "5.0\n",
            "1\n",
            "3\n",
            "8\n"
          ]
        }
      ]
    },
    {
      "cell_type": "markdown",
      "source": [
        "**Logical Operators**\n",
        "\n",
        "Logical operators are used as tools to combine or change true/false values\n",
        "\n",
        "\n",
        "- AND (and): Checks if both things are true. It only gives True if both are true.\n",
        "\n",
        "- OR (or): Checks if at least one thing is true. It gives True if at least one is true.\n",
        "\n",
        "- NOT (not): Flips the value. If something is True, not makes it False, and if it’s False, not makes it True."
      ],
      "metadata": {
        "id": "0q6O6WBh0TUm"
      }
    },
    {
      "cell_type": "code",
      "source": [
        "\n",
        "\n",
        "# AND operator\n",
        "print(True and True)  # Output: True\n",
        "print(True and False)  # Output: False\n",
        "print(False and True)  # Output: False\n",
        "print(False and False)  # Output: False\n",
        "\n",
        "# OR operator\n",
        "print(True or True)  # Output: True\n",
        "print(True or False)  # Output: True\n",
        "print(False or True)  # Output: True\n",
        "print(False or False)  # Output: False\n",
        "\n",
        "# NOT operator\n",
        "print(not True)  # Output: False\n",
        "print(not False)  # Output: True\n"
      ],
      "metadata": {
        "colab": {
          "base_uri": "https://localhost:8080/"
        },
        "id": "mycAOgGV0lG5",
        "outputId": "69b45bdf-7021-4b04-d0ed-9b13e0483628"
      },
      "execution_count": 4,
      "outputs": [
        {
          "output_type": "stream",
          "name": "stdout",
          "text": [
            "True\n",
            "False\n",
            "False\n",
            "False\n",
            "True\n",
            "True\n",
            "True\n",
            "False\n",
            "False\n",
            "True\n"
          ]
        }
      ]
    },
    {
      "cell_type": "markdown",
      "source": [
        "**Membership operator**\n",
        "\n",
        "A membership operator is used to check if a value is present within a collection, such as a list, tuple, or string or a collection (like a set or dictionary).\n",
        "\n",
        "The common membership operators are:\n",
        "\n",
        "- in: Returns True if the value is found in the collection; otherwise, returns False.\n",
        "- not in: Returns True if the value is not found in the collection; otherwise, returns False."
      ],
      "metadata": {
        "id": "RcBnNNg60yKF"
      }
    },
    {
      "cell_type": "code",
      "source": [
        "\n",
        "\n",
        "# Examples of Membership Operators\n",
        "\n",
        "my_list = [1, 2, 3, 4, 5]\n",
        "my_string = \"Hello, world!\"\n",
        "\n",
        "# 'in' operator\n",
        "print(3 in my_list)  # Output: True\n",
        "print(6 in my_list)  # Output: False\n",
        "print(\"Hello\" in my_string)  # Output: True\n",
        "print(\"Python\" in my_string)  # Output: False\n",
        "\n",
        "# 'not in' operator\n",
        "print(3 not in my_list)  # Output: False\n",
        "print(6 not in my_list)  # Output: True\n",
        "print(\"Hello\" not in my_string)  # Output: False\n",
        "print(\"Python\" not in my_string)  # Output: True\n"
      ],
      "metadata": {
        "colab": {
          "base_uri": "https://localhost:8080/"
        },
        "id": "S8AYUKQq0wVT",
        "outputId": "55a15fe6-ad07-4d72-bd2b-93092f8fbe45"
      },
      "execution_count": 5,
      "outputs": [
        {
          "output_type": "stream",
          "name": "stdout",
          "text": [
            "True\n",
            "False\n",
            "True\n",
            "False\n",
            "False\n",
            "True\n",
            "False\n",
            "True\n"
          ]
        }
      ]
    },
    {
      "cell_type": "markdown",
      "source": [
        "**Identity Operator**\n",
        "\n",
        "Identity operators are used to check if two variables are the same object or different objects. Identity operators are used to check if two variables are the same object or different objects: It is used to identify whether the value is present or not\n",
        "\n",
        "- is: Returns True if two variables point to the same object (e.g., a is b).\n",
        "- is not: Returns True if two variables point to different objects (e.g.,ax is notby)."
      ],
      "metadata": {
        "id": "CmhFOrZQ1Z5o"
      }
    },
    {
      "cell_type": "code",
      "source": [
        "\n",
        "\n",
        "x = [1, 2, 3]\n",
        "y = x\n",
        "z = [1, 2, 3]\n",
        "\n",
        "print(x is y)  # Output: True (x and y refer to the same object)\n",
        "print(x is z)  # Output: False (x and z refer to different objects, even though they have the same values)\n",
        "print(x is not z)  # Output: True (x and z refer to different objects)\n"
      ],
      "metadata": {
        "colab": {
          "base_uri": "https://localhost:8080/"
        },
        "id": "z6yn3Mwt1yIK",
        "outputId": "d69beb4e-9f82-4c55-c871-2068e6b48f15"
      },
      "execution_count": 6,
      "outputs": [
        {
          "output_type": "stream",
          "name": "stdout",
          "text": [
            "True\n",
            "False\n",
            "True\n"
          ]
        }
      ]
    },
    {
      "cell_type": "markdown",
      "source": [
        "**Bitwise Operators**\n",
        "\n",
        "Bitwise operators in Python are used to perform operations on the binary representations of integers.\n",
        "\n",
        "These operations are carried out bit by bit, and they are essential for low-level programming tasks, such as cryptography, data compression, and system programming.\n",
        "\n",
        "- AND (&): Compares two numbers bit by bit. If both bits are 1, the result is 1; otherwise, it’s 0.\n",
        "\n",
        "- OR (|): Compares two numbers bit by bit. If one or both bits are 1, the result is 1.\n",
        "\n",
        "- XOR (^): Compares two numbers bit by bit. If the bits are different, the result is 1; if they’re the same, it’s 0.\n",
        "\n",
        "- NOT (~): Flips all the bits. 1 becomes 0, and 0 becomes 1.\n",
        "\n",
        "- Left Shift (<<): Moves all bits to the left. It's like multiplying the number by 2.\n",
        "\n",
        "- Right Shift (>>): Moves all bits to the right. It's like dividing the number by 2."
      ],
      "metadata": {
        "id": "irxoM59m2GEk"
      }
    },
    {
      "cell_type": "code",
      "source": [
        "\n",
        "\n",
        "# Bitwise AND (&)\n",
        "a = 5  # Binary: 0101\n",
        "b = 3  # Binary: 0011\n",
        "result = a & b  # Binary: 0001 (Decimal: 1)\n",
        "print(f\"Bitwise AND of {a} and {b}: {result}\")\n",
        "\n",
        "# Bitwise OR (|)\n",
        "a = 5  # Binary: 0101\n",
        "b = 3  # Binary: 0011\n",
        "result = a | b  # Binary: 0111 (Decimal: 7)\n",
        "print(f\"Bitwise OR of {a} and {b}: {result}\")\n",
        "\n",
        "# Bitwise XOR (^)\n",
        "a = 5  # Binary: 0101\n",
        "b = 3  # Binary: 0011\n",
        "result = a ^ b  # Binary: 0110 (Decimal: 6)\n",
        "print(f\"Bitwise XOR of {a} and {b}: {result}\")\n",
        "\n",
        "# Bitwise NOT (~)\n",
        "a = 5  # Binary: 0101\n",
        "result = ~a  # Binary: 1010 (Decimal: -6)\n",
        "print(f\"Bitwise NOT of {a}: {result}\")\n",
        "\n",
        "# Bitwise Left Shift (<<)\n",
        "a = 5  # Binary: 0101\n",
        "result = a << 2  # Binary: 010100 (Decimal: 20)\n",
        "print(f\"Bitwise Left Shift of {a} by 2: {result}\")\n",
        "\n",
        "# Bitwise Right Shift (>>)\n",
        "a = 5  # Binary: 0101\n",
        "result = a >> 1  # Binary: 0010 (Decimal: 2)\n",
        "print(f\"Bitwise Right Shift of {a} by 1: {result}\")\n"
      ],
      "metadata": {
        "colab": {
          "base_uri": "https://localhost:8080/"
        },
        "id": "Kt_SMwlJ1Tz9",
        "outputId": "1c1e5f27-d0eb-434d-f55b-fbdad8657622"
      },
      "execution_count": 7,
      "outputs": [
        {
          "output_type": "stream",
          "name": "stdout",
          "text": [
            "Bitwise AND of 5 and 3: 1\n",
            "Bitwise OR of 5 and 3: 7\n",
            "Bitwise XOR of 5 and 3: 6\n",
            "Bitwise NOT of 5: -6\n",
            "Bitwise Left Shift of 5 by 2: 20\n",
            "Bitwise Right Shift of 5 by 1: 2\n"
          ]
        }
      ]
    },
    {
      "cell_type": "code",
      "source": [],
      "metadata": {
        "id": "V6nu58uT2fF-"
      },
      "execution_count": null,
      "outputs": []
    }
  ]
}