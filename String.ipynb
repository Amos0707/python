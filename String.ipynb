{
  "nbformat": 4,
  "nbformat_minor": 0,
  "metadata": {
    "colab": {
      "provenance": [],
      "authorship_tag": "ABX9TyMB5qt1EjL04QBjjr4PRUwH",
      "include_colab_link": true
    },
    "kernelspec": {
      "name": "python3",
      "display_name": "Python 3"
    },
    "language_info": {
      "name": "python"
    }
  },
  "cells": [
    {
      "cell_type": "markdown",
      "metadata": {
        "id": "view-in-github",
        "colab_type": "text"
      },
      "source": [
        "<a href=\"https://colab.research.google.com/github/Amos0707/python/blob/main/String.ipynb\" target=\"_parent\"><img src=\"https://colab.research.google.com/assets/colab-badge.svg\" alt=\"Open In Colab\"/></a>"
      ]
    },
    {
      "cell_type": "code",
      "execution_count": null,
      "metadata": {
        "id": "69uRA48MEPrL"
      },
      "outputs": [],
      "source": []
    },
    {
      "cell_type": "markdown",
      "source": [
        "**Python Strings**\n",
        "\n",
        "- In Python, strings are sequences of characters enclosed in either single quotes ('...') or double quotes (\"...\").\n",
        "- They are used to represent text data.\n",
        "Strings are one of the most commonly used data types in any programming language.\n",
        "- They can be used to represent text, numbers, symbols, or any combination of characters.\n",
        "\n",
        "**Characterstics**\n",
        "\n",
        "- Immutable: Once created, they cannot be changed.\n",
        "- Indexed: Each character in a string has a specific index, starting from 0.\n",
        "- Slicing: Subsets of strings can be obtained using slicing"
      ],
      "metadata": {
        "id": "hkgio-INEtN5"
      }
    },
    {
      "cell_type": "code",
      "source": [
        "\n",
        "\n",
        "# Example 1: String with single quotes\n",
        "string1 = 'Hello, world!'\n",
        "print(string1)\n",
        "\n",
        "# Example 2: String with double quotes\n",
        "string2 = \"Python is awesome\"\n",
        "print(string2)\n",
        "\n",
        "# Example 3: String with escape characters\n",
        "string3 = \"This is a quote: \\\"Quote inside a string\\\"\"\n",
        "print(string3)\n",
        "\n",
        "# Example 4: String with a newline character\n",
        "string4 = \"This string \\nhas a newline.\"\n",
        "print(string4)\n",
        "\n",
        "# Example 5: Empty string\n",
        "string5 = \"\"\n",
        "print(string5)\n"
      ],
      "metadata": {
        "colab": {
          "base_uri": "https://localhost:8080/"
        },
        "id": "lQdGLcG6FQiD",
        "outputId": "29a5fb2e-c72c-4eba-d78c-5b48d45bc2a1"
      },
      "execution_count": null,
      "outputs": [
        {
          "output_type": "stream",
          "name": "stdout",
          "text": [
            "Hello, world!\n",
            "Python is awesome\n",
            "This is a quote: \"Quote inside a string\"\n",
            "This string \n",
            "has a newline.\n",
            "\n"
          ]
        }
      ]
    },
    {
      "cell_type": "code",
      "source": [
        "#Example of a string\n",
        "str1 = \"Hello, World!\"\n",
        "str2 = 'Python Programming'\n",
        "\n",
        "# Accessing individual characters using index\n",
        "print(str1[0])\n",
        "print(str2[-1])\n",
        "\n",
        "# Slicing a string\n",
        "print(str1[0:5])"
      ],
      "metadata": {
        "colab": {
          "base_uri": "https://localhost:8080/"
        },
        "id": "NzyWxIDxFYUf",
        "outputId": "c2d345a9-d911-4ce7-b0ce-9cd8b0b50a37"
      },
      "execution_count": null,
      "outputs": [
        {
          "output_type": "stream",
          "name": "stdout",
          "text": [
            "H\n",
            "g\n",
            "Hello\n"
          ]
        }
      ]
    },
    {
      "cell_type": "markdown",
      "source": [
        "**Representation of strings**\n",
        "\n",
        "- In Python, strings can be represented using different types of quotation marks: single quotes ('...'), double quotes (\"...\"), or triple quotes ('''...''' or \"\"\"...\"\"\").\n",
        "- Below are the representations for the strings:\n"
      ],
      "metadata": {
        "id": "MivfaQB5G6pE"
      }
    },
    {
      "cell_type": "code",
      "source": [
        "string1 = 'Hello world'       # Single-quoted string\n",
        "string2 = \"python is easy\"     # Double-quoted string\n",
        "string3 = \"\"\"python is fun\"\"\"  # Triple-quoted string (also useful for multiline text)\n",
        "string4 = 'this is a string'   # Another single-quoted string\n",
        "string5 = \"12345\"              # Double-quoted string containing numeric characters"
      ],
      "metadata": {
        "id": "NIKn-_sTGwmM"
      },
      "execution_count": null,
      "outputs": []
    },
    {
      "cell_type": "markdown",
      "source": [
        "**Operations with Strings:**\n",
        "\n",
        "- Concatenation:\n",
        "Joining strings with +.\n",
        "\n",
        "- Repetition:\n",
        "Repeating strings with *."
      ],
      "metadata": {
        "id": "MDpFrjy7HrYL"
      }
    },
    {
      "cell_type": "code",
      "source": [
        "# Concatenation\n",
        "str3 = str1 + \" \" + str2\n",
        "\n",
        "# Repetition\n",
        "print(str1 * 2)"
      ],
      "metadata": {
        "colab": {
          "base_uri": "https://localhost:8080/"
        },
        "id": "gLlx10kMHqJP",
        "outputId": "99147bca-174b-469e-d1ca-08456f31b321"
      },
      "execution_count": null,
      "outputs": [
        {
          "output_type": "stream",
          "name": "stdout",
          "text": [
            "Hello, World!Hello, World!\n"
          ]
        }
      ]
    },
    {
      "cell_type": "code",
      "source": [
        "string6 = 'Hello world \\n'\n",
        "string7 = \"python is easy \\n\"\n",
        "string8 = \"\"\"python is fun \\n\"\"\"\n",
        "string9 = 'this is a string \\n'\n",
        "string10 = \"12345 \\n\"\n",
        "\n",
        "result1 = string6*5\n",
        "print(result1)\n"
      ],
      "metadata": {
        "colab": {
          "base_uri": "https://localhost:8080/"
        },
        "id": "Cnk-KKI4IFvs",
        "outputId": "b8db3bd3-e509-4343-accd-7310377599a1"
      },
      "execution_count": null,
      "outputs": [
        {
          "output_type": "stream",
          "name": "stdout",
          "text": [
            "Hello world \n",
            "Hello world \n",
            "Hello world \n",
            "Hello world \n",
            "Hello world \n",
            "\n"
          ]
        }
      ]
    },
    {
      "cell_type": "markdown",
      "source": [
        "**Indexing**\n",
        "- In Python, indexing allows you to access individual characters in a string based on their position.\n",
        "\n",
        "- Each character in a string has an index number:\n",
        "\n",
        "- Positive Indexing: Starts from 0 for the first character.\n",
        "\n",
        "- Negative Indexing: Starts from -1 for the last character, going backward.\n"
      ],
      "metadata": {
        "id": "7YQUd1SmIaTy"
      }
    },
    {
      "cell_type": "code",
      "source": [
        "string1 = \"Python\"\n",
        "\n",
        "# Positive indexing\n",
        "print(string1[0])\n",
        "print(string1[2])\n",
        "\n",
        "# Negative indexing\n",
        "print(string1[-1])\n",
        "print(string1[-4])"
      ],
      "metadata": {
        "colab": {
          "base_uri": "https://localhost:8080/"
        },
        "id": "8XXcnDMBIXBZ",
        "outputId": "cf147de5-f674-479d-d0c8-5cf5347e723c"
      },
      "execution_count": null,
      "outputs": [
        {
          "output_type": "stream",
          "name": "stdout",
          "text": [
            "P\n",
            "t\n",
            "n\n",
            "t\n"
          ]
        }
      ]
    },
    {
      "cell_type": "markdown",
      "source": [
        "**Slicing**\n",
        "\n",
        "Slicing in Python allows you to extract a part of a string by specifying a start index, an end index, and an optional step.\n",
        "\n",
        "Extracting a substring from a string\n",
        "\n",
        "substring = string[start:end:step]\n",
        "\n",
        "Examples:"
      ],
      "metadata": {
        "id": "MI6zFtGuIzV5"
      }
    },
    {
      "cell_type": "code",
      "source": [
        "my_string = \"Python programming is fun and versatile.\"\n",
        "\n",
        "# Slicing examples\n",
        "print(my_string[0:6])\n",
        "print(my_string[7:18])\n",
        "print(my_string[19:])\n",
        "print(my_string[:6])\n",
        "print(my_string[::2])\n",
        "print(my_string[::-1])\n"
      ],
      "metadata": {
        "id": "Q-YmHdvcIumt",
        "colab": {
          "base_uri": "https://localhost:8080/"
        },
        "outputId": "aafa8cba-7dee-49bd-d93b-b63fd5727bc4"
      },
      "execution_count": 1,
      "outputs": [
        {
          "output_type": "stream",
          "name": "stdout",
          "text": [
            "Python\n",
            "programming\n",
            "is fun and versatile.\n",
            "Python\n",
            "Pto rgamn sfnadvraie\n",
            ".elitasrev dna nuf si gnimmargorp nohtyP\n"
          ]
        }
      ]
    },
    {
      "cell_type": "markdown",
      "source": [
        "**Python Formats**\n",
        "\n",
        "- In Python, you can format strings using several methods to insert values into a string.\n",
        "\n",
        "- Here are some common techniques:\n",
        "\n",
        "**Old-Style Formatting (% Operator)**\n",
        "\n",
        "This method uses % to format strings."
      ],
      "metadata": {
        "id": "xbYculDm0tOF"
      }
    },
    {
      "cell_type": "code",
      "source": [
        "name = \"Amos\"\n",
        "age = 20\n",
        "formatted_string = \"My name is %s and I am %d years old.\" % (name, age)\n",
        "print(formatted_string)\n",
        "\n",
        "\n",
        "temperature = 23.456\n",
        "formatted_string = \"The current temperature is %.2f degrees Celsius.\" % temperature\n",
        "print(formatted_string)\n",
        "\n",
        "\n",
        "city = \"New York\"\n",
        "population = 8419000\n",
        "formatted_string = \"%s has a population of %d.\" % (city, population)\n",
        "print(formatted_string)"
      ],
      "metadata": {
        "colab": {
          "base_uri": "https://localhost:8080/"
        },
        "id": "XOwduA4o0do2",
        "outputId": "d8ab7cca-5c69-48bf-da26-30168352a8cc"
      },
      "execution_count": 3,
      "outputs": [
        {
          "output_type": "stream",
          "name": "stdout",
          "text": [
            "My name is Amos and I am 20 years old.\n",
            "The current temperature is 23.46 degrees Celsius.\n",
            "New York has a population of 8419000.\n"
          ]
        }
      ]
    },
    {
      "cell_type": "code",
      "source": [],
      "metadata": {
        "id": "xNNblycz1aA8"
      },
      "execution_count": null,
      "outputs": []
    }
  ]
}