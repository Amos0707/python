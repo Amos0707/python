{
  "nbformat": 4,
  "nbformat_minor": 0,
  "metadata": {
    "colab": {
      "provenance": [],
      "authorship_tag": "ABX9TyMJDchWJEtpbaxaOIDf7ZXn",
      "include_colab_link": true
    },
    "kernelspec": {
      "name": "python3",
      "display_name": "Python 3"
    },
    "language_info": {
      "name": "python"
    }
  },
  "cells": [
    {
      "cell_type": "markdown",
      "metadata": {
        "id": "view-in-github",
        "colab_type": "text"
      },
      "source": [
        "<a href=\"https://colab.research.google.com/github/Amos0707/python/blob/main/python_pratice2.ipynb\" target=\"_parent\"><img src=\"https://colab.research.google.com/assets/colab-badge.svg\" alt=\"Open In Colab\"/></a>"
      ]
    },
    {
      "cell_type": "markdown",
      "source": [
        "1) Write a program to find the largest of three numbers entered by the user.\n",
        "\n",
        "2) Write a program to check if a number is divisible by both 5 and 11.\n",
        "\n",
        "3) Write a Python program to check whether the input character is an alphabet, digit, or special character.\n",
        "\n",
        "4) Write a Python program to check if three sides can form a valid triangle.\n",
        "\n",
        "5) Write a Python program to find the absolute value of a number.\n",
        "\n",
        "6) Write a program to determine whether a given year is a century year or not.\n",
        "\n",
        "7) Write a Python program to determine whether a person’s BMI (Body Mass Index)\n",
        "falls under underweight, normal weight, overweight, or obese categories.\n",
        "\n",
        "8) Write a Python program to check if a given character is an uppercase or lowercase letter.\n",
        "\n",
        "9) Write a program to classify a number as small, medium, or large based on given thresholds.\n",
        "\n",
        "10) Write a Python program to determine the type of triangle based on the lengths of its sides (equilateral, isosceles, or scalene).\n",
        "\n",
        "11) Write a Python program to check if a number is a palindrome.\n",
        "\n",
        "12) Write a program to determine if a given angle is acute, right, or obtuse.\n",
        "\n",
        "13) Write a Python program to check whether the sum of two numbers is equal to a third number provided by the user."
      ],
      "metadata": {
        "id": "FB2DufClpl_t"
      }
    },
    {
      "cell_type": "code",
      "source": [
        "user = input(\"enter a number\")\n",
        "user = int(user)     #convert the string to an interger\n",
        "for i in str(user):\n",
        "  if int(i)>=999:\n",
        "\n",
        "\n",
        "    print(\"it is a largest digit number\")\n",
        "    break\n",
        "\n",
        "  else:\n",
        "    print(\"it is not a  largest digit number\")\n"
      ],
      "metadata": {
        "id": "LQCX2FGRpwct",
        "colab": {
          "base_uri": "https://localhost:8080/"
        },
        "outputId": "036f2425-1ad2-4769-a096-30bc4fe1d6ba"
      },
      "execution_count": 6,
      "outputs": [
        {
          "output_type": "stream",
          "name": "stdout",
          "text": [
            "enter a number3\n",
            "it is not a  largest digit number\n"
          ]
        }
      ]
    },
    {
      "cell_type": "code",
      "source": [
        "#2) Write a program to check if a number is divisible by both 5 and 11 using for/while loop.\n",
        "user = input(\"enter a number\")\n",
        "user = int(user)\n",
        "while user%5==0 and user%11==0:\n",
        "  print(\"it is divisible by both 5 and 11\")\n",
        "  break                                        #if we can't use break mean it can't be stop.ex:if we give 5 number means itcan print 5 times.\n",
        "else:\n",
        "  print(\"it is not divisible by both 5 and 11\")\n"
      ],
      "metadata": {
        "id": "SLL_zAjOJ609",
        "colab": {
          "base_uri": "https://localhost:8080/"
        },
        "outputId": "7b5630fc-08f1-4c15-f01f-d79fd299f494"
      },
      "execution_count": 1,
      "outputs": [
        {
          "output_type": "stream",
          "name": "stdout",
          "text": [
            "enter a number55\n",
            "it is divisible by both 5 and 11\n"
          ]
        }
      ]
    },
    {
      "cell_type": "code",
      "source": [
        "#3) Write a Python program to check whether the input character is an alphabet, digit, or special character using for/while loop?\n",
        "user = input(\"enter a character\")\n",
        "for i in user:\n",
        "  if i.isalpha():\n",
        "    print(\"it is an alphabet\")\n",
        "  elif i.isdigit():\n",
        "    print(\"it is a digit\")\n",
        "  else:\n",
        "    print(\"it is a special character\")\n"
      ],
      "metadata": {
        "colab": {
          "base_uri": "https://localhost:8080/"
        },
        "id": "Wh9rSf1f41uT",
        "outputId": "85bd335a-a577-4b4c-9523-89358f62c6b6"
      },
      "execution_count": 2,
      "outputs": [
        {
          "output_type": "stream",
          "name": "stdout",
          "text": [
            "enter a charactera\n",
            "it is an alphabet\n"
          ]
        }
      ]
    },
    {
      "cell_type": "markdown",
      "source": [],
      "metadata": {
        "id": "YqZV-O1Z7VpT"
      }
    },
    {
      "cell_type": "code",
      "source": [
        "#4) Write a Python program to check if three sides can form a valid triangle using for/ while loop?\n",
        "\n",
        "a = int(input(\"Enter the length of side a: \"))\n",
        "b = int(input(\"Enter the length of side b: \"))\n",
        "c = int(input(\"Enter the length of side c: \"))\n",
        "\n",
        "while True:                                      # while loopis used to execute a block of code repeatedly until given boolean condition evaluated to False. If we write while True then the loop will run forever.\n",
        "  if a + b > c and a + c > b and b + c > a:\n",
        "    print(\"These sides can form a valid triangle.\")\n",
        "    break\n",
        "  else:\n",
        "    print(\"These sides cannot form a valid triangle.\")\n",
        "    break\n"
      ],
      "metadata": {
        "colab": {
          "base_uri": "https://localhost:8080/"
        },
        "id": "4rqW8_UJ7WP3",
        "outputId": "6d54e6da-5f1b-4014-fd2a-09c8c4b56063"
      },
      "execution_count": 10,
      "outputs": [
        {
          "output_type": "stream",
          "name": "stdout",
          "text": [
            "Enter the length of side a: 6\n",
            "Enter the length of side b: 6\n",
            "Enter the length of side c: 6\n",
            "These sides can form a valid triangle.\n"
          ]
        }
      ]
    },
    {
      "cell_type": "code",
      "source": [
        "#5) Write a Python program to find the absolute value of a number using for/while loop?\n",
        "user = input(\"enter a number\")\n",
        "user = int(user)\n",
        "if user<0:\n",
        "  print(user*-1)\n",
        "else:\n",
        "  print(user)\n",
        "                                                                                 #we can't use the for loop /while  because their is no to use loop the statement ."
      ],
      "metadata": {
        "colab": {
          "base_uri": "https://localhost:8080/"
        },
        "id": "bQnn_Yd28JBE",
        "outputId": "ea84df24-ae6d-4001-9895-0ceb651b7228"
      },
      "execution_count": 12,
      "outputs": [
        {
          "output_type": "stream",
          "name": "stdout",
          "text": [
            "enter a number-9\n",
            "9\n"
          ]
        }
      ]
    },
    {
      "cell_type": "code",
      "source": [
        "#6) Write a program to determine whether a given year is a century year or not.\n",
        "user = int(input(\"enter a yera\"))\n",
        "while True:#\n",
        "  if user%100==0:\n",
        "    print(\"it is a century year\")\n",
        "    break\n",
        "  else:\n",
        "    print(\"it is not a century year\")\n",
        "    break\n",
        "\n",
        "# The `break` statement is used to exit the loop immediately when a certain condition is met.\n",
        "# In this program, it's used to exit the `while` loop after the year is classified as either a century year or not.\n",
        "\n",
        "# Without the `break` statement:\n",
        "\n",
        "# If the `break` statement is removed, the code will continue to execute the `while` loop indefinitely because the condition `True` is always true.\n",
        "# This would lead to the same message (\"it is a century year\" or \"it is not a century year\") being printed repeatedly, which is not desired.\n",
        "# The `break` statement is essential for ensuring that the program executes only once and then terminates correctly.\n"
      ],
      "metadata": {
        "colab": {
          "base_uri": "https://localhost:8080/"
        },
        "id": "p8ke-ypE9Cwm",
        "outputId": "1af00fe7-f100-4a77-80a1-260c5cde8d6c"
      },
      "execution_count": 13,
      "outputs": [
        {
          "output_type": "stream",
          "name": "stdout",
          "text": [
            "enter a yera100\n",
            "it is a century year\n"
          ]
        }
      ]
    },
    {
      "cell_type": "code",
      "source": [
        "\n",
        "\n",
        "# 7) Write a Python program to determine whether a person’s BMI (Body Mass Index)\n",
        "# falls under underweight, normal weight, overweight, or obese categories using while/for loop.\n",
        "\n",
        "\n",
        "weight = float(input(\"Enter your weight in kilograms: \"))\n",
        "height = float(input(\"Enter your height in meters: \"))\n",
        "\n",
        "bmi = weight / (height ** 2)\n",
        "\n",
        "while True: #is used to execute a block of code repeatedly until given boolean condition evaluated to False. If we write while True then the loop will run forever.\n",
        "  if bmi < 18.5:\n",
        "    print(\"You are underweight.\")\n",
        "    break\n",
        "  elif 18.5 <= bmi < 25:\n",
        "    print(\"You have a normal weight.\")\n",
        "    break\n",
        "  elif 25 <= bmi < 30:\n",
        "    print(\"You are overweight.\")\n",
        "    break\n",
        "  else:\n",
        "    print(\"You are obese.\")\n",
        "    break\n",
        "\n"
      ],
      "metadata": {
        "colab": {
          "base_uri": "https://localhost:8080/"
        },
        "id": "4Z-xDHmVE9yR",
        "outputId": "e021ef9d-f33c-436e-c6f5-efed836461c0"
      },
      "execution_count": 14,
      "outputs": [
        {
          "output_type": "stream",
          "name": "stdout",
          "text": [
            "Enter your weight in kilograms: 48\n",
            "Enter your height in meters: 179\n",
            "You are underweight.\n"
          ]
        }
      ]
    },
    {
      "cell_type": "code",
      "source": [
        "#8) Write a Python program to check if a given character is an uppercase or lowercase letter.\n",
        "user = input(\"enter a character\")\n",
        "while True:\n",
        "#is used to execute a block of code repeatedly until given boolean condition evaluated to False. If we write while True then the loop will run forever.\n",
        "  if user.isupper():\n",
        "    print(\"it is an uppercase letter\")\n",
        "    break\n",
        "  elif user.islower():\n",
        "    print(\"it is a lowercase letter\")\n",
        "    break"
      ],
      "metadata": {
        "colab": {
          "base_uri": "https://localhost:8080/"
        },
        "id": "MJf51YBGFbBh",
        "outputId": "7fbfd9bd-7682-4d70-b08b-ad1870a573dd"
      },
      "execution_count": 15,
      "outputs": [
        {
          "output_type": "stream",
          "name": "stdout",
          "text": [
            "enter a charactera\n",
            "it is a lowercase letter\n"
          ]
        }
      ]
    },
    {
      "cell_type": "code",
      "source": [
        "#9) Write a program to classify a number as small, medium, or large based on given threshold\n",
        "user = int(input(\"enter a number\"))\n",
        "tre =1\n",
        "while True:   #is used to execute a block of code repeatedly until given boolean condition evaluated to False. If we write while True then the loop will run forever.\n",
        "  if user>tre:\n",
        "    print(\"it is a large number\")\n",
        "    break\n",
        "  elif user<tre:\n",
        "    print(\"it is a small number\")\n",
        "    break\n",
        "  else:\n",
        "    print(\"it is a medium number\")\n",
        "    break"
      ],
      "metadata": {
        "colab": {
          "base_uri": "https://localhost:8080/"
        },
        "id": "-QUagCzCFtp-",
        "outputId": "8f3d08ac-c428-4a22-b554-94920a998978"
      },
      "execution_count": 17,
      "outputs": [
        {
          "output_type": "stream",
          "name": "stdout",
          "text": [
            "enter a number4\n",
            "it is a large number\n"
          ]
        }
      ]
    },
    {
      "cell_type": "code",
      "source": [
        "#10) Write a Python program to determine the type of triangle based on the lengths of its sides (equilateral, isosceles, or scalene).\n",
        "userA = int(input(\"enter a number\"))\n",
        "userB = int(input(\"enter a number\"))\n",
        "userC = int(input(\"enter a number\"))\n",
        "while True:          #is used to execute a block of code repeatedly until given boolean condition evaluated to False. If we write while True then the loop will run forever.\n",
        "  if userA==userB==userC:\n",
        "    print(\"it is an equilateral triangle\")\n",
        "    break\n",
        "  elif userA==userB or userB==userC or userA==userC:\n",
        "    print(\"it is an isosceles triangle\")\n",
        "    break\n",
        "  else:\n",
        "    print(\"it is scalene triangle\")"
      ],
      "metadata": {
        "colab": {
          "base_uri": "https://localhost:8080/"
        },
        "id": "1poAtepNGMS5",
        "outputId": "fbe22261-48d0-4c82-ef46-aa2011a83549"
      },
      "execution_count": 18,
      "outputs": [
        {
          "output_type": "stream",
          "name": "stdout",
          "text": [
            "enter a number5\n",
            "enter a number5\n",
            "enter a number5\n",
            "it is an equilateral triangle\n"
          ]
        }
      ]
    },
    {
      "cell_type": "code",
      "source": [
        "#12) Write a program to determine if a given angle is acute, right, or obtuse.\n",
        "user = int(input(\"enter a angle\"))\n",
        "while True:\n",
        "  if user<90:\n",
        "    print(\"it is an acute angle\")\n",
        "    break\n",
        "  elif user==90:\n",
        "    print(\"it is a right angle\")\n",
        "    break\n",
        "  else:\n",
        "    print(\"it is an obtuse angle\")"
      ],
      "metadata": {
        "colab": {
          "base_uri": "https://localhost:8080/"
        },
        "id": "ZY61Vm20H3Yq",
        "outputId": "bfd8e876-54ec-4990-b10b-b6fa8fd31d38"
      },
      "execution_count": 19,
      "outputs": [
        {
          "output_type": "stream",
          "name": "stdout",
          "text": [
            "enter a angle60\n",
            "it is an acute angle\n"
          ]
        }
      ]
    },
    {
      "cell_type": "code",
      "source": [
        "#13) Write a Python program to check whether the sum of two numbers is equal to a third number provided by the user.\n",
        "a = int(input(\"Enter the first number: \"))\n",
        "b = int(input(\"Enter the second number: \"))\n",
        "c = int(input(\"Enter the third number: \"))\n",
        "\n",
        "while True:\n",
        "  if a + b == c:\n",
        "    print(\"is equal\")\n",
        "    break\n",
        "\n",
        "  else:\n",
        "    print(\"is not equal\")\n",
        "    break\n"
      ],
      "metadata": {
        "colab": {
          "base_uri": "https://localhost:8080/"
        },
        "id": "I-_WovkzJYhG",
        "outputId": "7f440614-e9a1-4eee-da51-873668a9f0a3"
      },
      "execution_count": 28,
      "outputs": [
        {
          "output_type": "stream",
          "name": "stdout",
          "text": [
            "Enter the first number: 5\n",
            "Enter the second number: 5\n",
            "Enter the third number: 10\n",
            "is equal\n"
          ]
        }
      ]
    },
    {
      "cell_type": "code",
      "source": [
        "#11) Write a Python program to check if a number is a palindrome."
      ],
      "metadata": {
        "id": "fyii9NbsMUG0"
      },
      "execution_count": null,
      "outputs": []
    }
  ]
}