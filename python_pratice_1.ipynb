{
  "nbformat": 4,
  "nbformat_minor": 0,
  "metadata": {
    "colab": {
      "provenance": [],
      "authorship_tag": "ABX9TyOIAxX1xExQmcXx6BUdd4i4",
      "include_colab_link": true
    },
    "kernelspec": {
      "name": "python3",
      "display_name": "Python 3"
    },
    "language_info": {
      "name": "python"
    }
  },
  "cells": [
    {
      "cell_type": "markdown",
      "metadata": {
        "id": "view-in-github",
        "colab_type": "text"
      },
      "source": [
        "<a href=\"https://colab.research.google.com/github/Amos0707/python/blob/main/python_pratice_1.ipynb\" target=\"_parent\"><img src=\"https://colab.research.google.com/assets/colab-badge.svg\" alt=\"Open In Colab\"/></a>"
      ]
    },
    {
      "cell_type": "code",
      "source": [
        "a =int(input(\"Enter the number:\"))\n",
        "if a%2==0:\n",
        "    print(\"even\")\n",
        "else:\n",
        "    print(\"odd\")\n",
        ""
      ],
      "metadata": {
        "colab": {
          "base_uri": "https://localhost:8080/"
        },
        "id": "9wekUxryxUko",
        "outputId": "886ab17b-fdbf-4e8b-e207-e648ac3a0513"
      },
      "execution_count": 2,
      "outputs": [
        {
          "output_type": "stream",
          "name": "stdout",
          "text": [
            "Enter the number:6\n",
            "even\n"
          ]
        }
      ]
    },
    {
      "cell_type": "code",
      "source": [
        "year =int(input(\"Enter the year:\"))\n",
        "if year%400==0:\n",
        "    print(\"leap\")\n",
        "else:\n",
        "    print(\"not leap\")\n",
        "\n"
      ],
      "metadata": {
        "colab": {
          "base_uri": "https://localhost:8080/"
        },
        "id": "20SxWUsLxaHd",
        "outputId": "c3fe81bd-27f3-4862-aa88-d1fd6e3b6991"
      },
      "execution_count": 3,
      "outputs": [
        {
          "output_type": "stream",
          "name": "stdout",
          "text": [
            "Enter the year:2012\n",
            "not leap\n"
          ]
        }
      ]
    },
    {
      "cell_type": "code",
      "source": [
        "vol = \"aeiouAEIOU\"\n",
        "user=input(\"enter:\")\n",
        "if vol >=user:\n",
        "    print(\"vol\")\n",
        "else:\n",
        "    print(\"consonant\")\n",
        ""
      ],
      "metadata": {
        "colab": {
          "base_uri": "https://localhost:8080/"
        },
        "id": "DRAJ-sXExfpj",
        "outputId": "ce333879-3bfb-4feb-b971-a1560b3aff4c"
      },
      "execution_count": 4,
      "outputs": [
        {
          "output_type": "stream",
          "name": "stdout",
          "text": [
            "enter:A\n",
            "vol\n"
          ]
        }
      ]
    },
    {
      "cell_type": "code",
      "source": [
        "marks = int(input(\"enter :\"))\n",
        "if marks >=90 :\n",
        "    print(\"A\")\n",
        "elif marks >=80 :\n",
        "    print(\"b\")\n",
        "\n",
        "elif marks >=70 :\n",
        "    print(\"c\")\n",
        "elif marks >=60 :\n",
        "    print(\"d\")\n",
        "elif marks >=50:\n",
        "    print(\"e\")\n",
        "\n",
        "else:\n",
        "    print(\"f\")\n"
      ],
      "metadata": {
        "colab": {
          "base_uri": "https://localhost:8080/"
        },
        "id": "Vfu3iX9dxmAH",
        "outputId": "8a679edc-2e8f-47f2-8566-d6aa15231cc0"
      },
      "execution_count": 5,
      "outputs": [
        {
          "output_type": "stream",
          "name": "stdout",
          "text": [
            "enter :55\n",
            "e\n"
          ]
        }
      ]
    },
    {
      "cell_type": "code",
      "source": [
        "1) Write a program to find the largest of three numbers entered by the user.\n",
        "2) Write a program to check if a number is divisible by both 5 and 11.\n",
        "3) Write a Python program to check whether the input character is an alphabet, digit, or special character.\n",
        "4) Write a Python program to check if three sides can form a valid triangle.\n",
        "5) Write a Python program to find the absolute value of a number.\n",
        "6) Write a program to determine whether a given year is a century year or not.\n",
        "7) Write a Python program to determine whether a person’s BMI (Body Mass Index) falls under underweight, normal weight, overweight, or obese categories.\n",
        "8) Write a Python program to check if a given character is an uppercase or lowercase letter.\n",
        "9) Write a program to classify a number as small, medium, or large based on given thresholds.\n",
        "10) Write a Python program to determine the type of triangle based on the lengths of its sides (equilateral, isosceles, or scalene).\n",
        "11) Write a Python program to check if a number is a palindrome.\n",
        "12) Write a program to determine if a given angle is acute, right, or obtuse.\n",
        "13) Write a Python program to check whether the sum of two numbers is equal to a third number provided by the user.\n"
      ],
      "metadata": {
        "id": "YeMPkBJ8xrzO"
      },
      "execution_count": null,
      "outputs": []
    },
    {
      "cell_type": "code",
      "source": [
        "#1Write a program to find the largest of three numbers entered by the user.\n",
        "user = int(input(\"largest of three :\"))\n",
        "if user >= 999:\n",
        "    print(\"largest of three number\")\n",
        "else:\n",
        "    print(\"not a largest of three number\")"
      ],
      "metadata": {
        "colab": {
          "base_uri": "https://localhost:8080/"
        },
        "id": "Wc1_9JXpyWOq",
        "outputId": "2a3883f2-6a2f-4459-b961-21a605bbfb44"
      },
      "execution_count": 6,
      "outputs": [
        {
          "output_type": "stream",
          "name": "stdout",
          "text": [
            "largest of three :568\n",
            "not a largest of three number\n"
          ]
        }
      ]
    },
    {
      "cell_type": "code",
      "source": [
        "from google.colab import drive\n",
        "drive.mount('/content/drive')"
      ],
      "metadata": {
        "id": "YTuANf6t-75y"
      },
      "execution_count": null,
      "outputs": []
    },
    {
      "cell_type": "code",
      "source": [
        "#2) Write a program to check if a number is divisible by both 5 and 11.\n",
        "number = int(input())\n",
        "if number %5==0 and number %11==0:\n",
        "    print(\" number of 5 and 11 is divisible by both\")\n",
        "else:\n",
        "    print(\" A number not of 5 and 11 is divisible by both\")\n",
        ""
      ],
      "metadata": {
        "colab": {
          "base_uri": "https://localhost:8080/"
        },
        "id": "rYhupwAZyozZ",
        "outputId": "7a893294-2a41-4481-b66f-f7eb49cf0ceb"
      },
      "execution_count": 7,
      "outputs": [
        {
          "output_type": "stream",
          "name": "stdout",
          "text": [
            "2\n",
            " A number not of 5 and 11 is divisible by both\n"
          ]
        }
      ]
    },
    {
      "cell_type": "code",
      "source": [
        "#3) Write a Python program to check whether the input character is an alphabet, digit, or special character.\n",
        "char = input(\"enter a character:\")\n",
        "if char.isalpha():\n",
        "    print(\"This character is a alphabet\")\n",
        "elif char.isdigit():\n",
        "    print(\"This character is a digit\")\n",
        "else:\n",
        "    print(\"This  character is a special character\")"
      ],
      "metadata": {
        "colab": {
          "base_uri": "https://localhost:8080/"
        },
        "id": "s7s3LBmVyv3D",
        "outputId": "99c92ad4-24d8-4399-f4cf-b0fc86b7aa78"
      },
      "execution_count": 9,
      "outputs": [
        {
          "output_type": "stream",
          "name": "stdout",
          "text": [
            "enter a character:$\n",
            "This  character is a special character\n"
          ]
        }
      ]
    },
    {
      "cell_type": "code",
      "source": [
        "#Write a Python program to check if three sides can form a valid triangle.\n",
        "a = int(input())\n",
        "b =int(input())\n",
        "c = int(input())\n",
        "if a+b>c and a+c>b and b+c>a:\n",
        "    print(\"it is a triangle\")\n",
        "else:\n",
        "    print(\"it is not a triangle\")"
      ],
      "metadata": {
        "colab": {
          "base_uri": "https://localhost:8080/"
        },
        "id": "6BZITWRdy5qP",
        "outputId": "53f7ffa3-ad85-4a6d-a6ef-d36aaa7ee82a"
      },
      "execution_count": 10,
      "outputs": [
        {
          "output_type": "stream",
          "name": "stdout",
          "text": [
            "5\n",
            "5\n",
            "5\n",
            "it is a triangle\n"
          ]
        }
      ]
    },
    {
      "cell_type": "code",
      "source": [
        "#5Write a Python program to find the absolute value of a number.\n",
        "num=int(input())\n",
        "if num>=0:\n",
        "    print(num)\n",
        "else:\n",
        "    print(num *-1)"
      ],
      "metadata": {
        "colab": {
          "base_uri": "https://localhost:8080/"
        },
        "id": "Eyc6g2n4zAF2",
        "outputId": "b6e3000e-84fc-4b8b-c470-735c42ae48cc"
      },
      "execution_count": 12,
      "outputs": [
        {
          "output_type": "stream",
          "name": "stdout",
          "text": [
            "-8\n",
            "8\n"
          ]
        }
      ]
    },
    {
      "cell_type": "code",
      "source": [
        "#6Write a program to determine whether a given year is a century year or not.\n",
        "year =int(input(\"Enter the year:\"))\n",
        "if year%100==0:\n",
        "    print(\"century \")\n",
        "else:\n",
        "    print(\"not century\")\n"
      ],
      "metadata": {
        "colab": {
          "base_uri": "https://localhost:8080/"
        },
        "id": "1aCKuqNJzGtP",
        "outputId": "9e556a44-32cd-4e42-e35f-b3ee580e5fcf"
      },
      "execution_count": 13,
      "outputs": [
        {
          "output_type": "stream",
          "name": "stdout",
          "text": [
            "Enter the year:2000\n",
            "century \n"
          ]
        }
      ]
    },
    {
      "cell_type": "code",
      "source": [
        "#7 Write a Python program to determine whether a person’s BMI (Body Mass Index) falls under underweight, normal weight, overweight, or obese categories.\n",
        "weight= int(input())\n",
        "height = int(input())\n",
        "BMI = weight/((height/100)**2)\n",
        "print(BMI)\n",
        "if BMI<18.5:\n",
        "    print(\"underweight\")\n",
        "elif 18.5<= BMI>24.9:\n",
        "    print(\"normalweight\")\n",
        "elif 25<= BMI >29.9:\n",
        "    print(\"overweight\")\n",
        "else:\n",
        "    print(\"obse categotries\")\n",
        ""
      ],
      "metadata": {
        "colab": {
          "base_uri": "https://localhost:8080/"
        },
        "id": "Xd3bB1O_zO2X",
        "outputId": "cf967d95-422f-4a10-f817-b2139304acac"
      },
      "execution_count": 14,
      "outputs": [
        {
          "output_type": "stream",
          "name": "stdout",
          "text": [
            "47\n",
            "170\n",
            "16.262975778546714\n",
            "underweight\n"
          ]
        }
      ]
    },
    {
      "cell_type": "code",
      "source": [
        "#8Write a Python program to check if a given character is an uppercase or lowercase letter.\n",
        "char = input(\"enter a character:\")\n",
        "if char.islower():\n",
        "    print(\"This character is a lowercase\")\n",
        "else:\n",
        "    print(\"This character is a uppercase\")\n"
      ],
      "metadata": {
        "colab": {
          "base_uri": "https://localhost:8080/"
        },
        "id": "e__l1RiizWZq",
        "outputId": "66221464-fc6f-4bd8-b94d-5e4568e73d67"
      },
      "execution_count": 15,
      "outputs": [
        {
          "output_type": "stream",
          "name": "stdout",
          "text": [
            "enter a character:a\n",
            "This character is a lowercase\n"
          ]
        }
      ]
    },
    {
      "cell_type": "code",
      "source": [
        "#9Write a program to classify a number as small, medium, or large based on given thresholds.\n",
        "threshold=10\n",
        "num=int(input())\n",
        "if num>=threshold:\n",
        "    print(\"large\")\n",
        "elif num<=threshold:\n",
        "    print(\"medium\")\n",
        "else:\n",
        "    print(\"small\")"
      ],
      "metadata": {
        "colab": {
          "base_uri": "https://localhost:8080/"
        },
        "id": "f735NlOAzfGH",
        "outputId": "96bd8c86-c2d9-42a4-a474-a56376118025"
      },
      "execution_count": 16,
      "outputs": [
        {
          "output_type": "stream",
          "name": "stdout",
          "text": [
            "3\n",
            "medium\n"
          ]
        }
      ]
    },
    {
      "cell_type": "code",
      "source": [
        "#10.Write a Python program to determine the type of triangle based on the lengths of its sides (equilateral, isosceles, or scalene).\n",
        "A = input()\n",
        "B = input()\n",
        "C = input()\n",
        "if A == B == C:\n",
        "    print(\"eqilateral\")\n",
        "elif A==B or B==C or A==C:\n",
        "    print(\"isosceles\")\n",
        "else:\n",
        "    print(\"scalene\")"
      ],
      "metadata": {
        "colab": {
          "base_uri": "https://localhost:8080/"
        },
        "id": "o1bZsqoAzlg6",
        "outputId": "b89074a9-6391-4469-c1e5-12a6202022e3"
      },
      "execution_count": 17,
      "outputs": [
        {
          "output_type": "stream",
          "name": "stdout",
          "text": [
            "6\n",
            "3\n",
            "9\n",
            "scalene\n"
          ]
        }
      ]
    },
    {
      "cell_type": "code",
      "source": [
        "#11.Write a Python program to check if a number is a palindrome.\n",
        "num_str = str(number)\n",
        "reversednum_str=num_str[::-1]\n",
        "\n",
        "\n",
        "if num_str == reversednum_str:\n",
        "    print(f\"the number{number}  is  a palindrome \")\n",
        "else:\n",
        "    print(f\" the number{number}not a palindrome\")"
      ],
      "metadata": {
        "colab": {
          "base_uri": "https://localhost:8080/"
        },
        "id": "vdjKtgQNzrVQ",
        "outputId": "857ce993-ed7d-4fb8-8194-2d4dbbb3f664"
      },
      "execution_count": 18,
      "outputs": [
        {
          "output_type": "stream",
          "name": "stdout",
          "text": [
            "the number2  is  a palindrome \n"
          ]
        }
      ]
    },
    {
      "cell_type": "code",
      "source": [
        "#12.Write a program to determine if a given angle is acute, right, or obtuse.\n",
        "angle = int(input())\n",
        "if angle>90:\n",
        "    print(\"obtuse\")\n",
        "elif angle<90:\n",
        "    print(\"acute\")\n",
        "else:\n",
        "    print(\"Right\")"
      ],
      "metadata": {
        "colab": {
          "base_uri": "https://localhost:8080/"
        },
        "id": "P1rTfVLBz2QE",
        "outputId": "3b92a756-6b57-4b00-ff39-438e5f51712c"
      },
      "execution_count": 19,
      "outputs": [
        {
          "output_type": "stream",
          "name": "stdout",
          "text": [
            "65\n",
            "acute\n"
          ]
        }
      ]
    },
    {
      "cell_type": "code",
      "source": [
        "#13.Write a Python program to check whether the sum of two numbers is equal to a third number provided by the user.\n",
        "a =int(input(\"Enter the first number:\"))\n",
        "b = int(input(\"Enter the second number:\"))\n",
        "c = int(input(\"Enter the thrid number:\"))\n",
        "if a + b==c:\n",
        "    print(\"equal\")\n",
        "else:\n",
        "    print(\"not equal\")"
      ],
      "metadata": {
        "colab": {
          "base_uri": "https://localhost:8080/"
        },
        "id": "QjVT5JOoz7TB",
        "outputId": "659bd9fe-b416-4af5-fd8e-7a59447169b7"
      },
      "execution_count": 21,
      "outputs": [
        {
          "output_type": "stream",
          "name": "stdout",
          "text": [
            "Enter the first number:8\n",
            "Enter the second number:12\n",
            "Enter the thrid number:16\n",
            "not equal\n"
          ]
        }
      ]
    },
    {
      "cell_type": "code",
      "source": [],
      "metadata": {
        "id": "VikieMiv0C4Z"
      },
      "execution_count": null,
      "outputs": []
    }
  ]
}